{
 "cells": [
  {
   "cell_type": "code",
   "execution_count": 2,
   "id": "32b5f834",
   "metadata": {
    "_cell_guid": "0d958fcd-78ce-4efd-abbf-f9bf205b9fa2",
    "_uuid": "ae1d505f-f7ba-41ae-b757-33c0cf39e537",
    "collapsed": false,
    "execution": {
     "iopub.execute_input": "2025-01-06T06:38:47.999246Z",
     "iopub.status.busy": "2025-01-06T06:38:47.998908Z",
     "iopub.status.idle": "2025-01-06T06:39:11.258558Z",
     "shell.execute_reply": "2025-01-06T06:39:11.257415Z"
    },
    "jupyter": {
     "outputs_hidden": false
    },
    "papermill": {
     "duration": 23.2667,
     "end_time": "2025-01-06T06:39:11.260243",
     "exception": false,
     "start_time": "2025-01-06T06:38:47.993543",
     "status": "completed"
    },
    "tags": []
   },
   "outputs": [
    {
     "name": "stdout",
     "output_type": "stream",
     "text": [
      "\u001b[?25l     \u001b[90m━━━━━━━━━━━━━━━━━━━━━━━━━━━━━━━━━━━━━━━━\u001b[0m \u001b[32m0.0/44.1 kB\u001b[0m \u001b[31m?\u001b[0m eta \u001b[36m-:--:--\u001b[0m"
     ]
    },
    {
     "name": "stdout",
     "output_type": "stream",
     "text": [
      "\r\n",
      "\u001b[2K     \u001b[90m━━━━━━━━━━━━━━━━━━━━━━━━━━━━━━━━━━━━━━━━\u001b[0m \u001b[32m44.1/44.1 kB\u001b[0m \u001b[31m1.6 MB/s\u001b[0m eta \u001b[36m0:00:00\u001b[0m\r\n",
      "\u001b[?25h"
     ]
    },
    {
     "name": "stdout",
     "output_type": "stream",
     "text": [
      "\u001b[?25l   \u001b[90m━━━━━━━━━━━━━━━━━━━━━━━━━━━━━━━━━━━━━━━━\u001b[0m \u001b[32m0.0/10.1 MB\u001b[0m \u001b[31m?\u001b[0m eta \u001b[36m-:--:--\u001b[0m"
     ]
    },
    {
     "name": "stdout",
     "output_type": "stream",
     "text": [
      "\r\n",
      "\u001b[2K   \u001b[91m━━\u001b[0m\u001b[90m╺\u001b[0m\u001b[90m━━━━━━━━━━━━━━━━━━━━━━━━━━━━━━━━━━━━━\u001b[0m \u001b[32m0.6/10.1 MB\u001b[0m \u001b[31m21.5 MB/s\u001b[0m eta \u001b[36m0:00:01\u001b[0m"
     ]
    },
    {
     "name": "stdout",
     "output_type": "stream",
     "text": [
      "\r\n",
      "\u001b[2K   \u001b[91m━━━━━━━━━━━━━━━━━━━━\u001b[0m\u001b[90m╺\u001b[0m\u001b[90m━━━━━━━━━━━━━━━━━━━\u001b[0m \u001b[32m5.2/10.1 MB\u001b[0m \u001b[31m75.1 MB/s\u001b[0m eta \u001b[36m0:00:01\u001b[0m"
     ]
    },
    {
     "name": "stdout",
     "output_type": "stream",
     "text": [
      "\r\n",
      "\u001b[2K   \u001b[91m━━━━━━━━━━━━━━━━━━━━━━━━━━━━━━━━━━━━━━━\u001b[0m\u001b[91m╸\u001b[0m \u001b[32m10.1/10.1 MB\u001b[0m \u001b[31m110.1 MB/s\u001b[0m eta \u001b[36m0:00:01\u001b[0m\r\n",
      "\u001b[2K   \u001b[91m━━━━━━━━━━━━━━━━━━━━━━━━━━━━━━━━━━━━━━━\u001b[0m\u001b[91m╸\u001b[0m \u001b[32m10.1/10.1 MB\u001b[0m \u001b[31m110.1 MB/s\u001b[0m eta \u001b[36m0:00:01\u001b[0m\r\n",
      "\u001b[2K   \u001b[90m━━━━━━━━━━━━━━━━━━━━━━━━━━━━━━━━━━━━━━━━\u001b[0m \u001b[32m10.1/10.1 MB\u001b[0m \u001b[31m70.1 MB/s\u001b[0m eta \u001b[36m0:00:00\u001b[0m\r\n",
      "\u001b[?25h"
     ]
    },
    {
     "name": "stdout",
     "output_type": "stream",
     "text": [
      "\u001b[?25l   \u001b[90m━━━━━━━━━━━━━━━━━━━━━━━━━━━━━━━━━━━━━━━━\u001b[0m \u001b[32m0.0/374.8 kB\u001b[0m \u001b[31m?\u001b[0m eta \u001b[36m-:--:--\u001b[0m\r\n",
      "\u001b[2K   \u001b[90m━━━━━━━━━━━━━━━━━━━━━━━━━━━━━━━━━━━━━━━━\u001b[0m \u001b[32m374.8/374.8 kB\u001b[0m \u001b[31m23.3 MB/s\u001b[0m eta \u001b[36m0:00:00\u001b[0m\r\n",
      "\u001b[?25h\u001b[?25l   \u001b[90m━━━━━━━━━━━━━━━━━━━━━━━━━━━━━━━━━━━━━━━━\u001b[0m \u001b[32m0.0/69.1 MB\u001b[0m \u001b[31m?\u001b[0m eta \u001b[36m-:--:--\u001b[0m"
     ]
    },
    {
     "name": "stdout",
     "output_type": "stream",
     "text": [
      "\r\n",
      "\u001b[2K   \u001b[91m━━━\u001b[0m\u001b[91m╸\u001b[0m\u001b[90m━━━━━━━━━━━━━━━━━━━━━━━━━━━━━━━━━━━━\u001b[0m \u001b[32m6.5/69.1 MB\u001b[0m \u001b[31m194.5 MB/s\u001b[0m eta \u001b[36m0:00:01\u001b[0m"
     ]
    },
    {
     "name": "stdout",
     "output_type": "stream",
     "text": [
      "\r\n",
      "\u001b[2K   \u001b[91m━━━━━━━\u001b[0m\u001b[91m╸\u001b[0m\u001b[90m━━━━━━━━━━━━━━━━━━━━━━━━━━━━━━━━\u001b[0m \u001b[32m13.4/69.1 MB\u001b[0m \u001b[31m203.4 MB/s\u001b[0m eta \u001b[36m0:00:01\u001b[0m\r\n",
      "\u001b[2K   \u001b[91m━━━━━━━━━━━\u001b[0m\u001b[90m╺\u001b[0m\u001b[90m━━━━━━━━━━━━━━━━━━━━━━━━━━━━\u001b[0m \u001b[32m19.6/69.1 MB\u001b[0m \u001b[31m185.0 MB/s\u001b[0m eta \u001b[36m0:00:01\u001b[0m"
     ]
    },
    {
     "name": "stdout",
     "output_type": "stream",
     "text": [
      "\r\n",
      "\u001b[2K   \u001b[91m━━━━━━━━━━━━━━\u001b[0m\u001b[91m╸\u001b[0m\u001b[90m━━━━━━━━━━━━━━━━━━━━━━━━━\u001b[0m \u001b[32m25.1/69.1 MB\u001b[0m \u001b[31m165.4 MB/s\u001b[0m eta \u001b[36m0:00:01\u001b[0m"
     ]
    },
    {
     "name": "stdout",
     "output_type": "stream",
     "text": [
      "\r\n",
      "\u001b[2K   \u001b[91m━━━━━━━━━━━━━━━━━━\u001b[0m\u001b[90m╺\u001b[0m\u001b[90m━━━━━━━━━━━━━━━━━━━━━\u001b[0m \u001b[32m31.7/69.1 MB\u001b[0m \u001b[31m180.4 MB/s\u001b[0m eta \u001b[36m0:00:01\u001b[0m"
     ]
    },
    {
     "name": "stdout",
     "output_type": "stream",
     "text": [
      "\r\n",
      "\u001b[2K   \u001b[91m━━━━━━━━━━━━━━━━━━━━━━\u001b[0m\u001b[90m╺\u001b[0m\u001b[90m━━━━━━━━━━━━━━━━━\u001b[0m \u001b[32m38.4/69.1 MB\u001b[0m \u001b[31m190.5 MB/s\u001b[0m eta \u001b[36m0:00:01\u001b[0m\r\n",
      "\u001b[2K   \u001b[91m━━━━━━━━━━━━━━━━━━━━━━━━━\u001b[0m\u001b[91m╸\u001b[0m\u001b[90m━━━━━━━━━━━━━━\u001b[0m \u001b[32m44.1/69.1 MB\u001b[0m \u001b[31m175.5 MB/s\u001b[0m eta \u001b[36m0:00:01\u001b[0m"
     ]
    },
    {
     "name": "stdout",
     "output_type": "stream",
     "text": [
      "\r\n",
      "\u001b[2K   \u001b[91m━━━━━━━━━━━━━━━━━━━━━━━━━━━━\u001b[0m\u001b[90m╺\u001b[0m\u001b[90m━━━━━━━━━━━\u001b[0m \u001b[32m49.0/69.1 MB\u001b[0m \u001b[31m153.1 MB/s\u001b[0m eta \u001b[36m0:00:01\u001b[0m"
     ]
    },
    {
     "name": "stdout",
     "output_type": "stream",
     "text": [
      "\r\n",
      "\u001b[2K   \u001b[91m━━━━━━━━━━━━━━━━━━━━━━━━━━━━━━━\u001b[0m\u001b[91m╸\u001b[0m\u001b[90m━━━━━━━━\u001b[0m \u001b[32m54.5/69.1 MB\u001b[0m \u001b[31m143.2 MB/s\u001b[0m eta \u001b[36m0:00:01\u001b[0m\r\n",
      "\u001b[2K   \u001b[91m━━━━━━━━━━━━━━━━━━━━━━━━━━━━━━━━━━━\u001b[0m\u001b[90m╺\u001b[0m\u001b[90m━━━━\u001b[0m \u001b[32m61.2/69.1 MB\u001b[0m \u001b[31m171.3 MB/s\u001b[0m eta \u001b[36m0:00:01\u001b[0m"
     ]
    },
    {
     "name": "stdout",
     "output_type": "stream",
     "text": [
      "\r\n",
      "\u001b[2K   \u001b[91m━━━━━━━━━━━━━━━━━━━━━━━━━━━━━━━━━━━━━━━\u001b[0m\u001b[90m╺\u001b[0m \u001b[32m67.9/69.1 MB\u001b[0m \u001b[31m199.1 MB/s\u001b[0m eta \u001b[36m0:00:01\u001b[0m"
     ]
    },
    {
     "name": "stdout",
     "output_type": "stream",
     "text": [
      "\r\n",
      "\u001b[2K   \u001b[91m━━━━━━━━━━━━━━━━━━━━━━━━━━━━━━━━━━━━━━━\u001b[0m\u001b[91m╸\u001b[0m \u001b[32m69.1/69.1 MB\u001b[0m \u001b[31m181.8 MB/s\u001b[0m eta \u001b[36m0:00:01\u001b[0m\r\n",
      "\u001b[2K   \u001b[91m━━━━━━━━━━━━━━━━━━━━━━━━━━━━━━━━━━━━━━━\u001b[0m\u001b[91m╸\u001b[0m \u001b[32m69.1/69.1 MB\u001b[0m \u001b[31m181.8 MB/s\u001b[0m eta \u001b[36m0:00:01\u001b[0m"
     ]
    },
    {
     "name": "stdout",
     "output_type": "stream",
     "text": [
      "\r\n",
      "\u001b[2K   \u001b[91m━━━━━━━━━━━━━━━━━━━━━━━━━━━━━━━━━━━━━━━\u001b[0m\u001b[91m╸\u001b[0m \u001b[32m69.1/69.1 MB\u001b[0m \u001b[31m181.8 MB/s\u001b[0m eta \u001b[36m0:00:01\u001b[0m"
     ]
    },
    {
     "name": "stdout",
     "output_type": "stream",
     "text": [
      "\r\n",
      "\u001b[2K   \u001b[91m━━━━━━━━━━━━━━━━━━━━━━━━━━━━━━━━━━━━━━━\u001b[0m\u001b[91m╸\u001b[0m \u001b[32m69.1/69.1 MB\u001b[0m \u001b[31m181.8 MB/s\u001b[0m eta \u001b[36m0:00:01\u001b[0m\r\n",
      "\u001b[2K   \u001b[91m━━━━━━━━━━━━━━━━━━━━━━━━━━━━━━━━━━━━━━━\u001b[0m\u001b[91m╸\u001b[0m \u001b[32m69.1/69.1 MB\u001b[0m \u001b[31m181.8 MB/s\u001b[0m eta \u001b[36m0:00:01\u001b[0m"
     ]
    },
    {
     "name": "stdout",
     "output_type": "stream",
     "text": [
      "\r\n",
      "\u001b[2K   \u001b[91m━━━━━━━━━━━━━━━━━━━━━━━━━━━━━━━━━━━━━━━\u001b[0m\u001b[91m╸\u001b[0m \u001b[32m69.1/69.1 MB\u001b[0m \u001b[31m181.8 MB/s\u001b[0m eta \u001b[36m0:00:01\u001b[0m"
     ]
    },
    {
     "name": "stdout",
     "output_type": "stream",
     "text": [
      "\r\n",
      "\u001b[2K   \u001b[91m━━━━━━━━━━━━━━━━━━━━━━━━━━━━━━━━━━━━━━━\u001b[0m\u001b[91m╸\u001b[0m \u001b[32m69.1/69.1 MB\u001b[0m \u001b[31m181.8 MB/s\u001b[0m eta \u001b[36m0:00:01\u001b[0m"
     ]
    },
    {
     "name": "stdout",
     "output_type": "stream",
     "text": [
      "\r\n",
      "\u001b[2K   \u001b[91m━━━━━━━━━━━━━━━━━━━━━━━━━━━━━━━━━━━━━━━\u001b[0m\u001b[91m╸\u001b[0m \u001b[32m69.1/69.1 MB\u001b[0m \u001b[31m181.8 MB/s\u001b[0m eta \u001b[36m0:00:01\u001b[0m\r\n",
      "\u001b[2K   \u001b[91m━━━━━━━━━━━━━━━━━━━━━━━━━━━━━━━━━━━━━━━\u001b[0m\u001b[91m╸\u001b[0m \u001b[32m69.1/69.1 MB\u001b[0m \u001b[31m181.8 MB/s\u001b[0m eta \u001b[36m0:00:01\u001b[0m"
     ]
    },
    {
     "name": "stdout",
     "output_type": "stream",
     "text": [
      "\r\n",
      "\u001b[2K   \u001b[91m━━━━━━━━━━━━━━━━━━━━━━━━━━━━━━━━━━━━━━━\u001b[0m\u001b[91m╸\u001b[0m \u001b[32m69.1/69.1 MB\u001b[0m \u001b[31m181.8 MB/s\u001b[0m eta \u001b[36m0:00:01\u001b[0m\r\n",
      "\u001b[2K   \u001b[90m━━━━━━━━━━━━━━━━━━━━━━━━━━━━━━━━━━━━━━━━\u001b[0m \u001b[32m69.1/69.1 MB\u001b[0m \u001b[31m24.6 MB/s\u001b[0m eta \u001b[36m0:00:00\u001b[0m\r\n",
      "\u001b[?25h"
     ]
    },
    {
     "name": "stdout",
     "output_type": "stream",
     "text": [
      "\u001b[?25l   \u001b[90m━━━━━━━━━━━━━━━━━━━━━━━━━━━━━━━━━━━━━━━━\u001b[0m \u001b[32m0.0/293.4 kB\u001b[0m \u001b[31m?\u001b[0m eta \u001b[36m-:--:--\u001b[0m\r\n",
      "\u001b[2K   \u001b[90m━━━━━━━━━━━━━━━━━━━━━━━━━━━━━━━━━━━━━━━━\u001b[0m \u001b[32m293.4/293.4 kB\u001b[0m \u001b[31m17.9 MB/s\u001b[0m eta \u001b[36m0:00:00\u001b[0m\r\n",
      "\u001b[?25h\u001b[?25l   \u001b[90m━━━━━━━━━━━━━━━━━━━━━━━━━━━━━━━━━━━━━━━━\u001b[0m \u001b[32m0.0/450.5 kB\u001b[0m \u001b[31m?\u001b[0m eta \u001b[36m-:--:--\u001b[0m"
     ]
    },
    {
     "name": "stdout",
     "output_type": "stream",
     "text": [
      "\r\n",
      "\u001b[2K   \u001b[90m━━━━━━━━━━━━━━━━━━━━━━━━━━━━━━━━━━━━━━━━\u001b[0m \u001b[32m450.5/450.5 kB\u001b[0m \u001b[31m26.9 MB/s\u001b[0m eta \u001b[36m0:00:00\u001b[0m\r\n",
      "\u001b[?25h\u001b[?25l   \u001b[90m━━━━━━━━━━━━━━━━━━━━━━━━━━━━━━━━━━━━━━━━\u001b[0m \u001b[32m0.0/3.0 MB\u001b[0m \u001b[31m?\u001b[0m eta \u001b[36m-:--:--\u001b[0m"
     ]
    },
    {
     "name": "stdout",
     "output_type": "stream",
     "text": [
      "\r\n",
      "\u001b[2K   \u001b[91m━━━━━━━━━━━━━━━━━━━━━━━━━━━━━━━━━━━━━━━\u001b[0m\u001b[91m╸\u001b[0m \u001b[32m3.0/3.0 MB\u001b[0m \u001b[31m217.7 MB/s\u001b[0m eta \u001b[36m0:00:01\u001b[0m\r\n",
      "\u001b[2K   \u001b[90m━━━━━━━━━━━━━━━━━━━━━━━━━━━━━━━━━━━━━━━━\u001b[0m \u001b[32m3.0/3.0 MB\u001b[0m \u001b[31m82.8 MB/s\u001b[0m eta \u001b[36m0:00:00\u001b[0m\r\n",
      "\u001b[?25h"
     ]
    }
   ],
   "source": [
    "!pip install -q --upgrade transformers datasets peft bitsandbytes trl\n",
    "!pip install -q accelerate"
   ]
  },
  {
   "cell_type": "code",
   "execution_count": 3,
   "id": "8fc385e1",
   "metadata": {
    "_cell_guid": "36d67e9a-34bb-4df9-a75f-f67b31e57340",
    "_uuid": "93e20ca0-aacb-47cc-a21a-a956de9aa869",
    "collapsed": false,
    "execution": {
     "iopub.execute_input": "2025-01-06T06:39:11.272679Z",
     "iopub.status.busy": "2025-01-06T06:39:11.272421Z",
     "iopub.status.idle": "2025-01-06T06:39:15.273664Z",
     "shell.execute_reply": "2025-01-06T06:39:15.272857Z"
    },
    "jupyter": {
     "outputs_hidden": false
    },
    "papermill": {
     "duration": 4.008667,
     "end_time": "2025-01-06T06:39:15.274935",
     "exception": false,
     "start_time": "2025-01-06T06:39:11.266268",
     "status": "completed"
    },
    "tags": []
   },
   "outputs": [
    {
     "data": {
      "text/plain": [
       "PosixPath('/root/.cache/huggingface/accelerate/default_config.yaml')"
      ]
     },
     "execution_count": 3,
     "metadata": {},
     "output_type": "execute_result"
    }
   ],
   "source": [
    "from accelerate.utils import write_basic_config\n",
    "write_basic_config()"
   ]
  },
  {
   "cell_type": "code",
   "execution_count": 4,
   "id": "6ab1f3d5",
   "metadata": {
    "_cell_guid": "f938b81a-f4ab-4ddf-a3d8-d0124bc74704",
    "_uuid": "d68cee13-1618-411a-9a35-fc45cc9063d8",
    "collapsed": false,
    "execution": {
     "iopub.execute_input": "2025-01-06T06:39:15.287512Z",
     "iopub.status.busy": "2025-01-06T06:39:15.287156Z",
     "iopub.status.idle": "2025-01-06T06:39:30.295550Z",
     "shell.execute_reply": "2025-01-06T06:39:30.294815Z"
    },
    "jupyter": {
     "outputs_hidden": false
    },
    "papermill": {
     "duration": 15.016024,
     "end_time": "2025-01-06T06:39:30.297020",
     "exception": false,
     "start_time": "2025-01-06T06:39:15.280996",
     "status": "completed"
    },
    "tags": []
   },
   "outputs": [],
   "source": [
    "import os\n",
    "import torch\n",
    "import numpy as np\n",
    "import pandas as pd\n",
    "from transformers import (\n",
    "    AutoModelForCausalLM,\n",
    "    AutoTokenizer,\n",
    "    BitsAndBytesConfig,\n",
    "    DataCollatorForLanguageModeling,\n",
    "    TrainingArguments,\n",
    "    AutoConfig\n",
    ")\n",
    "from transformers import EarlyStoppingCallback\n",
    "from datasets import load_dataset, concatenate_datasets\n",
    "from huggingface_hub import login\n",
    "from peft import LoraConfig, get_peft_model,PeftModel\n",
    "from trl import SFTTrainer\n",
    "import transformers\n",
    "from torch.utils.data import DataLoader\n",
    "from tqdm import tqdm  # For progress bar"
   ]
  },
  {
   "cell_type": "code",
   "execution_count": 5,
   "id": "d49777c4",
   "metadata": {
    "_cell_guid": "5b1284c9-5f8c-4903-bf02-27b429f425ed",
    "_uuid": "c00d9cea-dab9-485c-aeb9-0ba773cc9365",
    "collapsed": false,
    "execution": {
     "iopub.execute_input": "2025-01-06T06:39:30.309398Z",
     "iopub.status.busy": "2025-01-06T06:39:30.309188Z",
     "iopub.status.idle": "2025-01-06T06:39:30.319897Z",
     "shell.execute_reply": "2025-01-06T06:39:30.319299Z"
    },
    "jupyter": {
     "outputs_hidden": false
    },
    "papermill": {
     "duration": 0.018007,
     "end_time": "2025-01-06T06:39:30.321129",
     "exception": false,
     "start_time": "2025-01-06T06:39:30.303122",
     "status": "completed"
    },
    "tags": []
   },
   "outputs": [],
   "source": [
    "seed = 7\n",
    "torch.manual_seed(seed)\n",
    "np.random.seed(seed)"
   ]
  },
  {
   "cell_type": "code",
   "execution_count": 6,
   "id": "ca217ee9",
   "metadata": {
    "_cell_guid": "f15b9b7f-3cf1-425f-ba78-cb062407d8ba",
    "_uuid": "fd0cf566-a75a-4890-97f7-201fdb827add",
    "collapsed": false,
    "execution": {
     "iopub.execute_input": "2025-01-06T06:39:30.332774Z",
     "iopub.status.busy": "2025-01-06T06:39:30.332543Z",
     "iopub.status.idle": "2025-01-06T06:39:30.336391Z",
     "shell.execute_reply": "2025-01-06T06:39:30.335646Z"
    },
    "jupyter": {
     "outputs_hidden": false
    },
    "papermill": {
     "duration": 0.011049,
     "end_time": "2025-01-06T06:39:30.337629",
     "exception": false,
     "start_time": "2025-01-06T06:39:30.326580",
     "status": "completed"
    },
    "tags": []
   },
   "outputs": [
    {
     "name": "stdout",
     "output_type": "stream",
     "text": [
      "Number of GPUs Available:2\n"
     ]
    }
   ],
   "source": [
    "print(f\"Number of GPUs Available:{torch.cuda.device_count()}\")"
   ]
  },
  {
   "cell_type": "code",
   "execution_count": 7,
   "id": "046f9fec",
   "metadata": {
    "_cell_guid": "878a5dc2-f779-43f6-8118-3578b9c1c7ec",
    "_uuid": "1a49601b-b6e8-4479-8adc-923118a5ffc8",
    "collapsed": false,
    "execution": {
     "iopub.execute_input": "2025-01-06T06:39:30.349675Z",
     "iopub.status.busy": "2025-01-06T06:39:30.349469Z",
     "iopub.status.idle": "2025-01-06T06:39:30.428179Z",
     "shell.execute_reply": "2025-01-06T06:39:30.427459Z"
    },
    "jupyter": {
     "outputs_hidden": false
    },
    "papermill": {
     "duration": 0.086174,
     "end_time": "2025-01-06T06:39:30.429413",
     "exception": false,
     "start_time": "2025-01-06T06:39:30.343239",
     "status": "completed"
    },
    "tags": []
   },
   "outputs": [],
   "source": [
    "# token = \"your_hugging_face_token\"\n",
    "login(token)"
   ]
  },
  {
   "cell_type": "code",
   "execution_count": 8,
   "id": "540d13c3",
   "metadata": {
    "_cell_guid": "76055a04-204a-4507-b4b1-c615f7b7075b",
    "_uuid": "8d099f26-18c1-4860-af86-e3629d364a17",
    "collapsed": false,
    "execution": {
     "iopub.execute_input": "2025-01-06T06:39:30.441636Z",
     "iopub.status.busy": "2025-01-06T06:39:30.441427Z",
     "iopub.status.idle": "2025-01-06T06:39:30.444311Z",
     "shell.execute_reply": "2025-01-06T06:39:30.443708Z"
    },
    "jupyter": {
     "outputs_hidden": false
    },
    "papermill": {
     "duration": 0.010122,
     "end_time": "2025-01-06T06:39:30.445429",
     "exception": false,
     "start_time": "2025-01-06T06:39:30.435307",
     "status": "completed"
    },
    "tags": []
   },
   "outputs": [],
   "source": [
    "save_dir = \"\"\n",
    "model_id = \"meta-llama/Llama-3.2-3B-Instruct\""
   ]
  },
  {
   "cell_type": "code",
   "execution_count": 9,
   "id": "44360313",
   "metadata": {
    "_cell_guid": "899a4248-63b4-4bdd-a323-c12f13b473bc",
    "_uuid": "04527bd6-5d83-427d-a5d3-997f9f1e363e",
    "collapsed": false,
    "execution": {
     "iopub.execute_input": "2025-01-06T06:39:30.457156Z",
     "iopub.status.busy": "2025-01-06T06:39:30.456923Z",
     "iopub.status.idle": "2025-01-06T06:39:30.462188Z",
     "shell.execute_reply": "2025-01-06T06:39:30.461374Z"
    },
    "jupyter": {
     "outputs_hidden": false
    },
    "papermill": {
     "duration": 0.012461,
     "end_time": "2025-01-06T06:39:30.463382",
     "exception": false,
     "start_time": "2025-01-06T06:39:30.450921",
     "status": "completed"
    },
    "tags": []
   },
   "outputs": [],
   "source": [
    "lora_config = {\"lora_config1\" : LoraConfig(\n",
    "    r=256,\n",
    "    lora_alpha=512,\n",
    "    lora_dropout=0.2,\n",
    "    target_modules=[\n",
    "        \"q_proj\", \"k_proj\", \"v_proj\", \"o_proj\",\n",
    "        \"gate_proj\", \"up_proj\", \"down_proj\"\n",
    "    ],\n",
    "    bias=\"none\",\n",
    "    task_type=\"CAUSAL_LM\",\n",
    "),\n",
    " \"lora_config2\" : LoraConfig(\n",
    "    r=128,\n",
    "    lora_alpha=256,\n",
    "    lora_dropout=0.2,\n",
    "    target_modules=[\n",
    "        \"q_proj\", \"k_proj\", \"v_proj\", \"o_proj\",\n",
    "        \"gate_proj\", \"up_proj\", \"down_proj\"\n",
    "    ],\n",
    "    bias=\"none\",\n",
    "    task_type=\"CAUSAL_LM\",\n",
    "),\n",
    " \"lora_config3\" : LoraConfig(\n",
    "    r=64,\n",
    "    lora_alpha=128,\n",
    "    lora_dropout=0.2,\n",
    "    target_modules=[\n",
    "        \"q_proj\", \"k_proj\", \"v_proj\", \"o_proj\",\n",
    "        \"gate_proj\", \"up_proj\", \"down_proj\"\n",
    "    ],\n",
    "    bias=\"none\",\n",
    "    task_type=\"CAUSAL_LM\",\n",
    "),\n",
    " \"lora_config4\" : LoraConfig(\n",
    "    r=32,\n",
    "    lora_alpha=64,\n",
    "    lora_dropout=0.2,\n",
    "    target_modules=[\n",
    "        \"q_proj\", \"k_proj\", \"v_proj\", \"o_proj\",\n",
    "        \"gate_proj\", \"up_proj\", \"down_proj\"\n",
    "    ],\n",
    "    bias=\"none\",\n",
    "    task_type=\"CAUSAL_LM\",\n",
    "),\n",
    " \"lora_config5\" : LoraConfig(\n",
    "    r=32,\n",
    "    lora_alpha=64,\n",
    "    lora_dropout=0.2,\n",
    "    target_modules=[\n",
    "        \"q_proj\", \"k_proj\", \"v_proj\", \"o_proj\",\n",
    "        \"gate_proj\", \"up_proj\", \"down_proj\"\n",
    "    ],\n",
    "    bias=\"none\",\n",
    "    task_type=\"CAUSAL_LM\",\n",
    ")\n",
    "}"
   ]
  },
  {
   "cell_type": "code",
   "execution_count": 10,
   "id": "cb4f5cec",
   "metadata": {
    "_cell_guid": "3b775856-fbba-48ee-bfab-411a9d3499b8",
    "_uuid": "ab939eae-592f-48ca-b650-81d368757186",
    "collapsed": false,
    "execution": {
     "iopub.execute_input": "2025-01-06T06:39:30.475086Z",
     "iopub.status.busy": "2025-01-06T06:39:30.474832Z",
     "iopub.status.idle": "2025-01-06T06:39:30.479024Z",
     "shell.execute_reply": "2025-01-06T06:39:30.478436Z"
    },
    "jupyter": {
     "outputs_hidden": false
    },
    "papermill": {
     "duration": 0.011351,
     "end_time": "2025-01-06T06:39:30.480244",
     "exception": false,
     "start_time": "2025-01-06T06:39:30.468893",
     "status": "completed"
    },
    "tags": []
   },
   "outputs": [],
   "source": [
    "bnb_config = BitsAndBytesConfig(\n",
    "    load_in_4bit=True,\n",
    "    bnb_4bit_use_double_quant=True,\n",
    "    bnb_4bit_quant_type='nf4',\n",
    "    bnb_4bit_compute_dtype=torch.float16\n",
    ")"
   ]
  },
  {
   "cell_type": "code",
   "execution_count": 11,
   "id": "dc80fa03",
   "metadata": {
    "_cell_guid": "68e19124-44a0-48eb-9d1a-2f6e508e23d4",
    "_uuid": "749bbb33-4a91-41f6-b57c-bedf7c957d17",
    "collapsed": false,
    "execution": {
     "iopub.execute_input": "2025-01-06T06:39:30.492176Z",
     "iopub.status.busy": "2025-01-06T06:39:30.491941Z",
     "iopub.status.idle": "2025-01-06T06:39:32.048321Z",
     "shell.execute_reply": "2025-01-06T06:39:32.047530Z"
    },
    "jupyter": {
     "outputs_hidden": false
    },
    "papermill": {
     "duration": 1.564124,
     "end_time": "2025-01-06T06:39:32.049932",
     "exception": false,
     "start_time": "2025-01-06T06:39:30.485808",
     "status": "completed"
    },
    "tags": []
   },
   "outputs": [
    {
     "data": {
      "application/vnd.jupyter.widget-view+json": {
       "model_id": "ca8f9501e92c44cd93dad11345e2bf3e",
       "version_major": 2,
       "version_minor": 0
      },
      "text/plain": [
       "tokenizer_config.json:   0%|          | 0.00/54.5k [00:00<?, ?B/s]"
      ]
     },
     "metadata": {},
     "output_type": "display_data"
    },
    {
     "data": {
      "application/vnd.jupyter.widget-view+json": {
       "model_id": "218042da5b714f65b11289bee5a1e63c",
       "version_major": 2,
       "version_minor": 0
      },
      "text/plain": [
       "tokenizer.json:   0%|          | 0.00/9.09M [00:00<?, ?B/s]"
      ]
     },
     "metadata": {},
     "output_type": "display_data"
    },
    {
     "data": {
      "application/vnd.jupyter.widget-view+json": {
       "model_id": "2328095fc1ee4a1db2b868bbaafe543a",
       "version_major": 2,
       "version_minor": 0
      },
      "text/plain": [
       "special_tokens_map.json:   0%|          | 0.00/296 [00:00<?, ?B/s]"
      ]
     },
     "metadata": {},
     "output_type": "display_data"
    }
   ],
   "source": [
    "tokenizer = AutoTokenizer.from_pretrained(model_id, token=token)\n",
    "tokenizer.padding_side = 'left'"
   ]
  },
  {
   "cell_type": "code",
   "execution_count": 12,
   "id": "d71255a2",
   "metadata": {
    "_cell_guid": "5d99cb67-7cd3-4eb7-8c8f-017f408c6a8d",
    "_uuid": "829c6cdf-f1c0-4669-bfab-e99a3c0f46e1",
    "collapsed": false,
    "execution": {
     "iopub.execute_input": "2025-01-06T06:39:32.064173Z",
     "iopub.status.busy": "2025-01-06T06:39:32.063930Z",
     "iopub.status.idle": "2025-01-06T06:39:32.068335Z",
     "shell.execute_reply": "2025-01-06T06:39:32.067689Z"
    },
    "jupyter": {
     "outputs_hidden": false
    },
    "papermill": {
     "duration": 0.012824,
     "end_time": "2025-01-06T06:39:32.069535",
     "exception": false,
     "start_time": "2025-01-06T06:39:32.056711",
     "status": "completed"
    },
    "tags": []
   },
   "outputs": [],
   "source": [
    "# Define default tokens\n",
    "DEFAULT_PAD_TOKEN = \"[PAD]\"\n",
    "DEFAULT_EOS_TOKEN = \"</s>\"\n",
    "DEFAULT_BOS_TOKEN = \"<s>\"\n",
    "\n",
    "special_tokens_dict = {}\n",
    "if tokenizer.pad_token is None:\n",
    "    special_tokens_dict['pad_token'] = DEFAULT_PAD_TOKEN\n",
    "if tokenizer.eos_token is None:\n",
    "    special_tokens_dict['eos_token'] = DEFAULT_EOS_TOKEN\n",
    "if tokenizer.bos_token is None:\n",
    "    special_tokens_dict['bos_token'] = DEFAULT_BOS_TOKEN\n",
    "\n",
    "if special_tokens_dict:\n",
    "    tokenizer.add_special_tokens(special_tokens_dict)"
   ]
  },
  {
   "cell_type": "code",
   "execution_count": 13,
   "id": "a51673fd",
   "metadata": {
    "_cell_guid": "6b812dda-eb66-481c-9f38-b981fcbf5044",
    "_uuid": "72c2fa58-3eda-4fa0-b8ac-194c4e8883ce",
    "collapsed": false,
    "execution": {
     "iopub.execute_input": "2025-01-06T06:39:32.083124Z",
     "iopub.status.busy": "2025-01-06T06:39:32.082907Z",
     "iopub.status.idle": "2025-01-06T06:42:13.241133Z",
     "shell.execute_reply": "2025-01-06T06:42:13.240327Z"
    },
    "jupyter": {
     "outputs_hidden": false
    },
    "papermill": {
     "duration": 161.166567,
     "end_time": "2025-01-06T06:42:13.242795",
     "exception": false,
     "start_time": "2025-01-06T06:39:32.076228",
     "status": "completed"
    },
    "tags": []
   },
   "outputs": [
    {
     "data": {
      "application/vnd.jupyter.widget-view+json": {
       "model_id": "4ae8c54e42994f5bb4a4ec4802c70828",
       "version_major": 2,
       "version_minor": 0
      },
      "text/plain": [
       "config.json:   0%|          | 0.00/878 [00:00<?, ?B/s]"
      ]
     },
     "metadata": {},
     "output_type": "display_data"
    },
    {
     "data": {
      "application/vnd.jupyter.widget-view+json": {
       "model_id": "e166cf20a7174ff4b9dc2305f2abe48e",
       "version_major": 2,
       "version_minor": 0
      },
      "text/plain": [
       "model.safetensors.index.json:   0%|          | 0.00/20.9k [00:00<?, ?B/s]"
      ]
     },
     "metadata": {},
     "output_type": "display_data"
    },
    {
     "data": {
      "application/vnd.jupyter.widget-view+json": {
       "model_id": "270cbce032ee4284abfd5c72fd7261a8",
       "version_major": 2,
       "version_minor": 0
      },
      "text/plain": [
       "Downloading shards:   0%|          | 0/2 [00:00<?, ?it/s]"
      ]
     },
     "metadata": {},
     "output_type": "display_data"
    },
    {
     "data": {
      "application/vnd.jupyter.widget-view+json": {
       "model_id": "993c879379884d098c8f622b340f2cbb",
       "version_major": 2,
       "version_minor": 0
      },
      "text/plain": [
       "model-00001-of-00002.safetensors:   0%|          | 0.00/4.97G [00:00<?, ?B/s]"
      ]
     },
     "metadata": {},
     "output_type": "display_data"
    },
    {
     "data": {
      "application/vnd.jupyter.widget-view+json": {
       "model_id": "c407170975264dafb3ca54735c7bcd81",
       "version_major": 2,
       "version_minor": 0
      },
      "text/plain": [
       "model-00002-of-00002.safetensors:   0%|          | 0.00/1.46G [00:00<?, ?B/s]"
      ]
     },
     "metadata": {},
     "output_type": "display_data"
    },
    {
     "data": {
      "application/vnd.jupyter.widget-view+json": {
       "model_id": "3ab6e1afad254db8827f12e7e8563bc0",
       "version_major": 2,
       "version_minor": 0
      },
      "text/plain": [
       "Loading checkpoint shards:   0%|          | 0/2 [00:00<?, ?it/s]"
      ]
     },
     "metadata": {},
     "output_type": "display_data"
    },
    {
     "data": {
      "application/vnd.jupyter.widget-view+json": {
       "model_id": "8985b8fd951944d791df61d839d70a08",
       "version_major": 2,
       "version_minor": 0
      },
      "text/plain": [
       "generation_config.json:   0%|          | 0.00/189 [00:00<?, ?B/s]"
      ]
     },
     "metadata": {},
     "output_type": "display_data"
    }
   ],
   "source": [
    "model = AutoModelForCausalLM.from_pretrained(\n",
    "    model_id,\n",
    "    quantization_config=bnb_config,\n",
    "    device_map=\"auto\",\n",
    "    token=token\n",
    ")"
   ]
  },
  {
   "cell_type": "code",
   "execution_count": 14,
   "id": "eea9d558",
   "metadata": {
    "_cell_guid": "af41111b-359c-4151-a5ec-6daedf57de78",
    "_uuid": "859748ae-85e4-4f0a-a5e7-4651436509aa",
    "collapsed": false,
    "execution": {
     "iopub.execute_input": "2025-01-06T06:42:13.258063Z",
     "iopub.status.busy": "2025-01-06T06:42:13.257781Z",
     "iopub.status.idle": "2025-01-06T06:42:13.263115Z",
     "shell.execute_reply": "2025-01-06T06:42:13.262277Z"
    },
    "jupyter": {
     "outputs_hidden": false
    },
    "papermill": {
     "duration": 0.014186,
     "end_time": "2025-01-06T06:42:13.264350",
     "exception": false,
     "start_time": "2025-01-06T06:42:13.250164",
     "status": "completed"
    },
    "tags": []
   },
   "outputs": [],
   "source": [
    "def preprocess_function(examples):\n",
    "    # Format inputs with the instruction\n",
    "    inputs = [\n",
    "        f\"<|begin_of_text|><|start_header_id|>system <|end_header_id|>\"\n",
    "        \"You are an expert math assistant<|eot_id|><|start_header_id|>user <|end_header_id|>\"\n",
    "        f\"Solve the following math problem: {problem}\\n\"\n",
    "        \"Show all intermediate steps and please mandatorily include the final answer in LaTeX format in a box like \\\\boxed{{}}.\"\n",
    "        \"<|eot_id|><|start_header_id|> assistant <|end_header_id|>\"for problem in examples['problem']\n",
    "    ]\n",
    "    # Append the solution with EOS token\n",
    "    targets = [\n",
    "        f\"{solution}{tokenizer.eos_token}\"\n",
    "        for solution in examples['solution']\n",
    "    ]\n",
    "    # Concatenate inputs and targets\n",
    "    full_texts = [inp + tgt for inp, tgt in zip(inputs, targets)]\n",
    "    # Tokenize the concatenated texts\n",
    "    model_inputs = tokenizer(\n",
    "        full_texts,\n",
    "        max_length=512,\n",
    "        truncation=True,\n",
    "        padding=\"longest\",  # Use dynamic padding\n",
    "        return_tensors=\"pt\"\n",
    "    )\n",
    "    # Create labels by cloning input IDs\n",
    "    labels = model_inputs[\"input_ids\"].clone()\n",
    "\n",
    "    # Mask input tokens in labels\n",
    "    for i in range(len(labels)):\n",
    "        input_ids = tokenizer(inputs[i], add_special_tokens=False).input_ids\n",
    "        input_len = len(input_ids)\n",
    "        labels[i][:input_len] = -100  # Mask the input tokens\n",
    "    model_inputs[\"labels\"] = labels\n",
    "    return model_inputs"
   ]
  },
  {
   "cell_type": "code",
   "execution_count": 15,
   "id": "2c1bb455",
   "metadata": {
    "_cell_guid": "2428e74e-60bb-4913-ba5a-be696fca27de",
    "_uuid": "f59ef3ff-cf7f-4994-ae40-7e9d45c6fa08",
    "collapsed": false,
    "execution": {
     "iopub.execute_input": "2025-01-06T06:42:13.278315Z",
     "iopub.status.busy": "2025-01-06T06:42:13.278092Z",
     "iopub.status.idle": "2025-01-06T06:42:13.281105Z",
     "shell.execute_reply": "2025-01-06T06:42:13.280469Z"
    },
    "jupyter": {
     "outputs_hidden": false
    },
    "papermill": {
     "duration": 0.011347,
     "end_time": "2025-01-06T06:42:13.282334",
     "exception": false,
     "start_time": "2025-01-06T06:42:13.270987",
     "status": "completed"
    },
    "tags": []
   },
   "outputs": [],
   "source": [
    "data_collator = DataCollatorForLanguageModeling(\n",
    "    tokenizer=tokenizer,\n",
    "    mlm=False,  # For causal language modeling\n",
    "    pad_to_multiple_of=8  # For faster GPU performance\n",
    ")"
   ]
  },
  {
   "cell_type": "code",
   "execution_count": 16,
   "id": "b2d21aa1",
   "metadata": {
    "_cell_guid": "84245e3a-4826-44d2-8a53-bb46159413c1",
    "_uuid": "bae7fcf6-ff07-44e5-af86-3e931b4c1066",
    "collapsed": false,
    "execution": {
     "iopub.execute_input": "2025-01-06T06:42:13.296165Z",
     "iopub.status.busy": "2025-01-06T06:42:13.295940Z",
     "iopub.status.idle": "2025-01-06T06:42:17.732873Z",
     "shell.execute_reply": "2025-01-06T06:42:17.731959Z"
    },
    "jupyter": {
     "outputs_hidden": false
    },
    "papermill": {
     "duration": 4.445279,
     "end_time": "2025-01-06T06:42:17.734163",
     "exception": false,
     "start_time": "2025-01-06T06:42:13.288884",
     "status": "completed"
    },
    "tags": []
   },
   "outputs": [
    {
     "data": {
      "application/vnd.jupyter.widget-view+json": {
       "model_id": "d30c087e71f6440c9a15ff7ea43cd83e",
       "version_major": 2,
       "version_minor": 0
      },
      "text/plain": [
       "MATH.py:   0%|          | 0.00/4.10k [00:00<?, ?B/s]"
      ]
     },
     "metadata": {},
     "output_type": "display_data"
    },
    {
     "data": {
      "application/vnd.jupyter.widget-view+json": {
       "model_id": "58143addfaf742449301860f0763c102",
       "version_major": 2,
       "version_minor": 0
      },
      "text/plain": [
       "data/algebra_train.jsonl:   0%|          | 0.00/1.04M [00:00<?, ?B/s]"
      ]
     },
     "metadata": {},
     "output_type": "display_data"
    },
    {
     "data": {
      "application/vnd.jupyter.widget-view+json": {
       "model_id": "0ee3524f4b5a4fe395c04ecf562c9145",
       "version_major": 2,
       "version_minor": 0
      },
      "text/plain": [
       "(…)ata/counting_and_probability_train.jsonl:   0%|          | 0.00/707k [00:00<?, ?B/s]"
      ]
     },
     "metadata": {},
     "output_type": "display_data"
    },
    {
     "data": {
      "application/vnd.jupyter.widget-view+json": {
       "model_id": "e8d042d9027f4753a6f0860848dcb1ca",
       "version_major": 2,
       "version_minor": 0
      },
      "text/plain": [
       "data/geometry_train.jsonl:   0%|          | 0.00/1.15M [00:00<?, ?B/s]"
      ]
     },
     "metadata": {},
     "output_type": "display_data"
    },
    {
     "data": {
      "application/vnd.jupyter.widget-view+json": {
       "model_id": "015aa93e63d042f4a26ddc57db80b441",
       "version_major": 2,
       "version_minor": 0
      },
      "text/plain": [
       "data/intermediate_algebra_train.jsonl:   0%|          | 0.00/1.25M [00:00<?, ?B/s]"
      ]
     },
     "metadata": {},
     "output_type": "display_data"
    },
    {
     "data": {
      "application/vnd.jupyter.widget-view+json": {
       "model_id": "13aefc2e89a44156ae74714615b7e2c8",
       "version_major": 2,
       "version_minor": 0
      },
      "text/plain": [
       "data/number_theory_train.jsonl:   0%|          | 0.00/639k [00:00<?, ?B/s]"
      ]
     },
     "metadata": {},
     "output_type": "display_data"
    },
    {
     "data": {
      "application/vnd.jupyter.widget-view+json": {
       "model_id": "9da29340a1104cabaa4c15f21fb98be0",
       "version_major": 2,
       "version_minor": 0
      },
      "text/plain": [
       "data/prealgebra_train.jsonl:   0%|          | 0.00/778k [00:00<?, ?B/s]"
      ]
     },
     "metadata": {},
     "output_type": "display_data"
    },
    {
     "data": {
      "application/vnd.jupyter.widget-view+json": {
       "model_id": "ae7e9b62bd294f97abafc5b5226fdc97",
       "version_major": 2,
       "version_minor": 0
      },
      "text/plain": [
       "data/precalculus_train.jsonl:   0%|          | 0.00/903k [00:00<?, ?B/s]"
      ]
     },
     "metadata": {},
     "output_type": "display_data"
    },
    {
     "data": {
      "application/vnd.jupyter.widget-view+json": {
       "model_id": "2a528358e66446b29b4049ac1a6dcc4f",
       "version_major": 2,
       "version_minor": 0
      },
      "text/plain": [
       "data/algebra_test.jsonl:   0%|          | 0.00/706k [00:00<?, ?B/s]"
      ]
     },
     "metadata": {},
     "output_type": "display_data"
    },
    {
     "data": {
      "application/vnd.jupyter.widget-view+json": {
       "model_id": "84e205375628485498d3191635794ed6",
       "version_major": 2,
       "version_minor": 0
      },
      "text/plain": [
       "data/counting_and_probability_test.jsonl:   0%|          | 0.00/377k [00:00<?, ?B/s]"
      ]
     },
     "metadata": {},
     "output_type": "display_data"
    },
    {
     "data": {
      "application/vnd.jupyter.widget-view+json": {
       "model_id": "cd36527733f0459aa15fe91b79390436",
       "version_major": 2,
       "version_minor": 0
      },
      "text/plain": [
       "data/geometry_test.jsonl:   0%|          | 0.00/562k [00:00<?, ?B/s]"
      ]
     },
     "metadata": {},
     "output_type": "display_data"
    },
    {
     "data": {
      "application/vnd.jupyter.widget-view+json": {
       "model_id": "ec54b75bf5464d74b2c9158a3ef990be",
       "version_major": 2,
       "version_minor": 0
      },
      "text/plain": [
       "data/intermediate_algebra_test.jsonl:   0%|          | 0.00/860k [00:00<?, ?B/s]"
      ]
     },
     "metadata": {},
     "output_type": "display_data"
    },
    {
     "data": {
      "application/vnd.jupyter.widget-view+json": {
       "model_id": "a40eca5e6aa341a397d40a31c1e33168",
       "version_major": 2,
       "version_minor": 0
      },
      "text/plain": [
       "data/number_theory_test.jsonl:   0%|          | 0.00/376k [00:00<?, ?B/s]"
      ]
     },
     "metadata": {},
     "output_type": "display_data"
    },
    {
     "data": {
      "application/vnd.jupyter.widget-view+json": {
       "model_id": "290e913f327643a2b2eeffce802fc567",
       "version_major": 2,
       "version_minor": 0
      },
      "text/plain": [
       "data/prealgebra_test.jsonl:   0%|          | 0.00/553k [00:00<?, ?B/s]"
      ]
     },
     "metadata": {},
     "output_type": "display_data"
    },
    {
     "data": {
      "application/vnd.jupyter.widget-view+json": {
       "model_id": "1209bebb5a6944a1a45e76cb58361a3e",
       "version_major": 2,
       "version_minor": 0
      },
      "text/plain": [
       "data/precalculus_test.jsonl:   0%|          | 0.00/614k [00:00<?, ?B/s]"
      ]
     },
     "metadata": {},
     "output_type": "display_data"
    },
    {
     "data": {
      "application/vnd.jupyter.widget-view+json": {
       "model_id": "d83fe64cf4204834a16f657db4993a0e",
       "version_major": 2,
       "version_minor": 0
      },
      "text/plain": [
       "Generating train split: 0 examples [00:00, ? examples/s]"
      ]
     },
     "metadata": {},
     "output_type": "display_data"
    },
    {
     "data": {
      "application/vnd.jupyter.widget-view+json": {
       "model_id": "2e59b951d1144ea383b806c96d04d8ff",
       "version_major": 2,
       "version_minor": 0
      },
      "text/plain": [
       "Generating test split: 0 examples [00:00, ? examples/s]"
      ]
     },
     "metadata": {},
     "output_type": "display_data"
    },
    {
     "data": {
      "application/vnd.jupyter.widget-view+json": {
       "model_id": "d9e623684a844dc5a0079161c51620a3",
       "version_major": 2,
       "version_minor": 0
      },
      "text/plain": [
       "Filter:   0%|          | 0/7500 [00:00<?, ? examples/s]"
      ]
     },
     "metadata": {},
     "output_type": "display_data"
    }
   ],
   "source": [
    "dataset = load_dataset(\"Maxwell-Jia/MATH\",trust_remote_code=True)\n",
    "dataset['train'] = dataset['train'].filter(\n",
    "        lambda x: x['level'] != f\"Level ?\"\n",
    "    )"
   ]
  },
  {
   "cell_type": "code",
   "execution_count": 17,
   "id": "04d7e184",
   "metadata": {
    "_cell_guid": "ec8c85f9-56b7-4f32-8118-9c2d4592cd24",
    "_uuid": "5b04f7fe-839b-4348-bfb0-15f48b92009a",
    "collapsed": false,
    "execution": {
     "iopub.execute_input": "2025-01-06T06:42:17.752833Z",
     "iopub.status.busy": "2025-01-06T06:42:17.752555Z",
     "iopub.status.idle": "2025-01-06T06:42:34.082598Z",
     "shell.execute_reply": "2025-01-06T06:42:34.081563Z"
    },
    "jupyter": {
     "outputs_hidden": false
    },
    "papermill": {
     "duration": 16.340648,
     "end_time": "2025-01-06T06:42:34.084126",
     "exception": false,
     "start_time": "2025-01-06T06:42:17.743478",
     "status": "completed"
    },
    "tags": []
   },
   "outputs": [
    {
     "name": "stderr",
     "output_type": "stream",
     "text": [
      "The new embeddings will be initialized from a multivariate normal distribution that has old embeddings' mean and covariance. As described in this article: https://nlp.stanford.edu/~johnhew/vocab-expansion.html. To disable this, use `mean_resizing=False`\n"
     ]
    },
    {
     "name": "stdout",
     "output_type": "stream",
     "text": [
      "Trainable parameters: 389021696 (17.74% of total), Total : 2192488448\n"
     ]
    },
    {
     "name": "stdout",
     "output_type": "stream",
     "text": [
      "Trainable parameters: 194510848 (9.74% of total), Total : 1997977600\n"
     ]
    },
    {
     "name": "stdout",
     "output_type": "stream",
     "text": [
      "Trainable parameters: 97255424 (5.12% of total), Total : 1900722176\n"
     ]
    },
    {
     "name": "stdout",
     "output_type": "stream",
     "text": [
      "Trainable parameters: 48627712 (2.63% of total), Total : 1852094464\n"
     ]
    },
    {
     "name": "stdout",
     "output_type": "stream",
     "text": [
      "Trainable parameters: 48627712 (2.63% of total), Total : 1852094464\n"
     ]
    }
   ],
   "source": [
    "for lci in lora_config.keys():\n",
    "    model.resize_token_embeddings(len(tokenizer))\n",
    "    model = get_peft_model(model, lora_config[lci])\n",
    "    trainable_params = 0\n",
    "    total_params = 0\n",
    "    for param in model.parameters():\n",
    "        num_params = param.numel()\n",
    "        total_params += num_params\n",
    "        if param.requires_grad:\n",
    "            trainable_params += num_params\n",
    "    print(f\"Trainable parameters: {trainable_params} ({100 * trainable_params / total_params:.2f}% of total), Total : {total_params}\")"
   ]
  },
  {
   "cell_type": "code",
   "execution_count": 18,
   "id": "cc2f04f2",
   "metadata": {
    "_cell_guid": "760cdc50-63a4-4d3f-817d-f6ebb1c64ea4",
    "_uuid": "7f003253-a867-4fc8-a60a-c3682ead8104",
    "collapsed": false,
    "execution": {
     "iopub.execute_input": "2025-01-06T06:42:34.103259Z",
     "iopub.status.busy": "2025-01-06T06:42:34.102952Z"
    },
    "jupyter": {
     "outputs_hidden": false
    },
    "papermill": {
     "duration": null,
     "end_time": null,
     "exception": false,
     "start_time": "2025-01-06T06:42:34.093179",
     "status": "running"
    },
    "tags": []
   },
   "outputs": [
    {
     "name": "stdout",
     "output_type": "stream",
     "text": [
      "\n",
      "Starting training for Level 5\n"
     ]
    },
    {
     "data": {
      "application/vnd.jupyter.widget-view+json": {
       "model_id": "6c94f7c7028a44159dbce15a0e385571",
       "version_major": 2,
       "version_minor": 0
      },
      "text/plain": [
       "adapter_config.json:   0%|          | 0.00/775 [00:00<?, ?B/s]"
      ]
     },
     "metadata": {},
     "output_type": "display_data"
    },
    {
     "data": {
      "application/vnd.jupyter.widget-view+json": {
       "model_id": "2cd57cc07b3e4092a41ab1e55a4dd4a2",
       "version_major": 2,
       "version_minor": 0
      },
      "text/plain": [
       "adapter_model.safetensors:   0%|          | 0.00/195M [00:00<?, ?B/s]"
      ]
     },
     "metadata": {},
     "output_type": "display_data"
    },
    {
     "name": "stderr",
     "output_type": "stream",
     "text": [
      "/usr/local/lib/python3.10/dist-packages/peft/peft_model.py:599: UserWarning: Found missing adapter keys while loading the checkpoint: ['base_model.model.base_model.model.base_model.model.base_model.model.base_model.model.base_model.model.model.layers.0.self_attn.q_proj.lora_A.default.weight', 'base_model.model.base_model.model.base_model.model.base_model.model.base_model.model.base_model.model.model.layers.0.self_attn.q_proj.lora_B.default.weight', 'base_model.model.base_model.model.base_model.model.base_model.model.base_model.model.base_model.model.model.layers.0.self_attn.k_proj.lora_A.default.weight', 'base_model.model.base_model.model.base_model.model.base_model.model.base_model.model.base_model.model.model.layers.0.self_attn.k_proj.lora_B.default.weight', 'base_model.model.base_model.model.base_model.model.base_model.model.base_model.model.base_model.model.model.layers.0.self_attn.v_proj.lora_A.default.weight', 'base_model.model.base_model.model.base_model.model.base_model.model.base_model.model.base_model.model.model.layers.0.self_attn.v_proj.lora_B.default.weight', 'base_model.model.base_model.model.base_model.model.base_model.model.base_model.model.base_model.model.model.layers.0.self_attn.o_proj.lora_A.default.weight', 'base_model.model.base_model.model.base_model.model.base_model.model.base_model.model.base_model.model.model.layers.0.self_attn.o_proj.lora_B.default.weight', 'base_model.model.base_model.model.base_model.model.base_model.model.base_model.model.base_model.model.model.layers.0.mlp.gate_proj.lora_A.default.weight', 'base_model.model.base_model.model.base_model.model.base_model.model.base_model.model.base_model.model.model.layers.0.mlp.gate_proj.lora_B.default.weight', 'base_model.model.base_model.model.base_model.model.base_model.model.base_model.model.base_model.model.model.layers.0.mlp.up_proj.lora_A.default.weight', 'base_model.model.base_model.model.base_model.model.base_model.model.base_model.model.base_model.model.model.layers.0.mlp.up_proj.lora_B.default.weight', 'base_model.model.base_model.model.base_model.model.base_model.model.base_model.model.base_model.model.model.layers.0.mlp.down_proj.lora_A.default.weight', 'base_model.model.base_model.model.base_model.model.base_model.model.base_model.model.base_model.model.model.layers.0.mlp.down_proj.lora_B.default.weight', 'base_model.model.base_model.model.base_model.model.base_model.model.base_model.model.base_model.model.model.layers.1.self_attn.q_proj.lora_A.default.weight', 'base_model.model.base_model.model.base_model.model.base_model.model.base_model.model.base_model.model.model.layers.1.self_attn.q_proj.lora_B.default.weight', 'base_model.model.base_model.model.base_model.model.base_model.model.base_model.model.base_model.model.model.layers.1.self_attn.k_proj.lora_A.default.weight', 'base_model.model.base_model.model.base_model.model.base_model.model.base_model.model.base_model.model.model.layers.1.self_attn.k_proj.lora_B.default.weight', 'base_model.model.base_model.model.base_model.model.base_model.model.base_model.model.base_model.model.model.layers.1.self_attn.v_proj.lora_A.default.weight', 'base_model.model.base_model.model.base_model.model.base_model.model.base_model.model.base_model.model.model.layers.1.self_attn.v_proj.lora_B.default.weight', 'base_model.model.base_model.model.base_model.model.base_model.model.base_model.model.base_model.model.model.layers.1.self_attn.o_proj.lora_A.default.weight', 'base_model.model.base_model.model.base_model.model.base_model.model.base_model.model.base_model.model.model.layers.1.self_attn.o_proj.lora_B.default.weight', 'base_model.model.base_model.model.base_model.model.base_model.model.base_model.model.base_model.model.model.layers.1.mlp.gate_proj.lora_A.default.weight', 'base_model.model.base_model.model.base_model.model.base_model.model.base_model.model.base_model.model.model.layers.1.mlp.gate_proj.lora_B.default.weight', 'base_model.model.base_model.model.base_model.model.base_model.model.base_model.model.base_model.model.model.layers.1.mlp.up_proj.lora_A.default.weight', 'base_model.model.base_model.model.base_model.model.base_model.model.base_model.model.base_model.model.model.layers.1.mlp.up_proj.lora_B.default.weight', 'base_model.model.base_model.model.base_model.model.base_model.model.base_model.model.base_model.model.model.layers.1.mlp.down_proj.lora_A.default.weight', 'base_model.model.base_model.model.base_model.model.base_model.model.base_model.model.base_model.model.model.layers.1.mlp.down_proj.lora_B.default.weight', 'base_model.model.base_model.model.base_model.model.base_model.model.base_model.model.base_model.model.model.layers.2.self_attn.q_proj.lora_A.default.weight', 'base_model.model.base_model.model.base_model.model.base_model.model.base_model.model.base_model.model.model.layers.2.self_attn.q_proj.lora_B.default.weight', 'base_model.model.base_model.model.base_model.model.base_model.model.base_model.model.base_model.model.model.layers.2.self_attn.k_proj.lora_A.default.weight', 'base_model.model.base_model.model.base_model.model.base_model.model.base_model.model.base_model.model.model.layers.2.self_attn.k_proj.lora_B.default.weight', 'base_model.model.base_model.model.base_model.model.base_model.model.base_model.model.base_model.model.model.layers.2.self_attn.v_proj.lora_A.default.weight', 'base_model.model.base_model.model.base_model.model.base_model.model.base_model.model.base_model.model.model.layers.2.self_attn.v_proj.lora_B.default.weight', 'base_model.model.base_model.model.base_model.model.base_model.model.base_model.model.base_model.model.model.layers.2.self_attn.o_proj.lora_A.default.weight', 'base_model.model.base_model.model.base_model.model.base_model.model.base_model.model.base_model.model.model.layers.2.self_attn.o_proj.lora_B.default.weight', 'base_model.model.base_model.model.base_model.model.base_model.model.base_model.model.base_model.model.model.layers.2.mlp.gate_proj.lora_A.default.weight', 'base_model.model.base_model.model.base_model.model.base_model.model.base_model.model.base_model.model.model.layers.2.mlp.gate_proj.lora_B.default.weight', 'base_model.model.base_model.model.base_model.model.base_model.model.base_model.model.base_model.model.model.layers.2.mlp.up_proj.lora_A.default.weight', 'base_model.model.base_model.model.base_model.model.base_model.model.base_model.model.base_model.model.model.layers.2.mlp.up_proj.lora_B.default.weight', 'base_model.model.base_model.model.base_model.model.base_model.model.base_model.model.base_model.model.model.layers.2.mlp.down_proj.lora_A.default.weight', 'base_model.model.base_model.model.base_model.model.base_model.model.base_model.model.base_model.model.model.layers.2.mlp.down_proj.lora_B.default.weight', 'base_model.model.base_model.model.base_model.model.base_model.model.base_model.model.base_model.model.model.layers.3.self_attn.q_proj.lora_A.default.weight', 'base_model.model.base_model.model.base_model.model.base_model.model.base_model.model.base_model.model.model.layers.3.self_attn.q_proj.lora_B.default.weight', 'base_model.model.base_model.model.base_model.model.base_model.model.base_model.model.base_model.model.model.layers.3.self_attn.k_proj.lora_A.default.weight', 'base_model.model.base_model.model.base_model.model.base_model.model.base_model.model.base_model.model.model.layers.3.self_attn.k_proj.lora_B.default.weight', 'base_model.model.base_model.model.base_model.model.base_model.model.base_model.model.base_model.model.model.layers.3.self_attn.v_proj.lora_A.default.weight', 'base_model.model.base_model.model.base_model.model.base_model.model.base_model.model.base_model.model.model.layers.3.self_attn.v_proj.lora_B.default.weight', 'base_model.model.base_model.model.base_model.model.base_model.model.base_model.model.base_model.model.model.layers.3.self_attn.o_proj.lora_A.default.weight', 'base_model.model.base_model.model.base_model.model.base_model.model.base_model.model.base_model.model.model.layers.3.self_attn.o_proj.lora_B.default.weight', 'base_model.model.base_model.model.base_model.model.base_model.model.base_model.model.base_model.model.model.layers.3.mlp.gate_proj.lora_A.default.weight', 'base_model.model.base_model.model.base_model.model.base_model.model.base_model.model.base_model.model.model.layers.3.mlp.gate_proj.lora_B.default.weight', 'base_model.model.base_model.model.base_model.model.base_model.model.base_model.model.base_model.model.model.layers.3.mlp.up_proj.lora_A.default.weight', 'base_model.model.base_model.model.base_model.model.base_model.model.base_model.model.base_model.model.model.layers.3.mlp.up_proj.lora_B.default.weight', 'base_model.model.base_model.model.base_model.model.base_model.model.base_model.model.base_model.model.model.layers.3.mlp.down_proj.lora_A.default.weight', 'base_model.model.base_model.model.base_model.model.base_model.model.base_model.model.base_model.model.model.layers.3.mlp.down_proj.lora_B.default.weight', 'base_model.model.base_model.model.base_model.model.base_model.model.base_model.model.base_model.model.model.layers.4.self_attn.q_proj.lora_A.default.weight', 'base_model.model.base_model.model.base_model.model.base_model.model.base_model.model.base_model.model.model.layers.4.self_attn.q_proj.lora_B.default.weight', 'base_model.model.base_model.model.base_model.model.base_model.model.base_model.model.base_model.model.model.layers.4.self_attn.k_proj.lora_A.default.weight', 'base_model.model.base_model.model.base_model.model.base_model.model.base_model.model.base_model.model.model.layers.4.self_attn.k_proj.lora_B.default.weight', 'base_model.model.base_model.model.base_model.model.base_model.model.base_model.model.base_model.model.model.layers.4.self_attn.v_proj.lora_A.default.weight', 'base_model.model.base_model.model.base_model.model.base_model.model.base_model.model.base_model.model.model.layers.4.self_attn.v_proj.lora_B.default.weight', 'base_model.model.base_model.model.base_model.model.base_model.model.base_model.model.base_model.model.model.layers.4.self_attn.o_proj.lora_A.default.weight', 'base_model.model.base_model.model.base_model.model.base_model.model.base_model.model.base_model.model.model.layers.4.self_attn.o_proj.lora_B.default.weight', 'base_model.model.base_model.model.base_model.model.base_model.model.base_model.model.base_model.model.model.layers.4.mlp.gate_proj.lora_A.default.weight', 'base_model.model.base_model.model.base_model.model.base_model.model.base_model.model.base_model.model.model.layers.4.mlp.gate_proj.lora_B.default.weight', 'base_model.model.base_model.model.base_model.model.base_model.model.base_model.model.base_model.model.model.layers.4.mlp.up_proj.lora_A.default.weight', 'base_model.model.base_model.model.base_model.model.base_model.model.base_model.model.base_model.model.model.layers.4.mlp.up_proj.lora_B.default.weight', 'base_model.model.base_model.model.base_model.model.base_model.model.base_model.model.base_model.model.model.layers.4.mlp.down_proj.lora_A.default.weight', 'base_model.model.base_model.model.base_model.model.base_model.model.base_model.model.base_model.model.model.layers.4.mlp.down_proj.lora_B.default.weight', 'base_model.model.base_model.model.base_model.model.base_model.model.base_model.model.base_model.model.model.layers.5.self_attn.q_proj.lora_A.default.weight', 'base_model.model.base_model.model.base_model.model.base_model.model.base_model.model.base_model.model.model.layers.5.self_attn.q_proj.lora_B.default.weight', 'base_model.model.base_model.model.base_model.model.base_model.model.base_model.model.base_model.model.model.layers.5.self_attn.k_proj.lora_A.default.weight', 'base_model.model.base_model.model.base_model.model.base_model.model.base_model.model.base_model.model.model.layers.5.self_attn.k_proj.lora_B.default.weight', 'base_model.model.base_model.model.base_model.model.base_model.model.base_model.model.base_model.model.model.layers.5.self_attn.v_proj.lora_A.default.weight', 'base_model.model.base_model.model.base_model.model.base_model.model.base_model.model.base_model.model.model.layers.5.self_attn.v_proj.lora_B.default.weight', 'base_model.model.base_model.model.base_model.model.base_model.model.base_model.model.base_model.model.model.layers.5.self_attn.o_proj.lora_A.default.weight', 'base_model.model.base_model.model.base_model.model.base_model.model.base_model.model.base_model.model.model.layers.5.self_attn.o_proj.lora_B.default.weight', 'base_model.model.base_model.model.base_model.model.base_model.model.base_model.model.base_model.model.model.layers.5.mlp.gate_proj.lora_A.default.weight', 'base_model.model.base_model.model.base_model.model.base_model.model.base_model.model.base_model.model.model.layers.5.mlp.gate_proj.lora_B.default.weight', 'base_model.model.base_model.model.base_model.model.base_model.model.base_model.model.base_model.model.model.layers.5.mlp.up_proj.lora_A.default.weight', 'base_model.model.base_model.model.base_model.model.base_model.model.base_model.model.base_model.model.model.layers.5.mlp.up_proj.lora_B.default.weight', 'base_model.model.base_model.model.base_model.model.base_model.model.base_model.model.base_model.model.model.layers.5.mlp.down_proj.lora_A.default.weight', 'base_model.model.base_model.model.base_model.model.base_model.model.base_model.model.base_model.model.model.layers.5.mlp.down_proj.lora_B.default.weight', 'base_model.model.base_model.model.base_model.model.base_model.model.base_model.model.base_model.model.model.layers.6.self_attn.q_proj.lora_A.default.weight', 'base_model.model.base_model.model.base_model.model.base_model.model.base_model.model.base_model.model.model.layers.6.self_attn.q_proj.lora_B.default.weight', 'base_model.model.base_model.model.base_model.model.base_model.model.base_model.model.base_model.model.model.layers.6.self_attn.k_proj.lora_A.default.weight', 'base_model.model.base_model.model.base_model.model.base_model.model.base_model.model.base_model.model.model.layers.6.self_attn.k_proj.lora_B.default.weight', 'base_model.model.base_model.model.base_model.model.base_model.model.base_model.model.base_model.model.model.layers.6.self_attn.v_proj.lora_A.default.weight', 'base_model.model.base_model.model.base_model.model.base_model.model.base_model.model.base_model.model.model.layers.6.self_attn.v_proj.lora_B.default.weight', 'base_model.model.base_model.model.base_model.model.base_model.model.base_model.model.base_model.model.model.layers.6.self_attn.o_proj.lora_A.default.weight', 'base_model.model.base_model.model.base_model.model.base_model.model.base_model.model.base_model.model.model.layers.6.self_attn.o_proj.lora_B.default.weight', 'base_model.model.base_model.model.base_model.model.base_model.model.base_model.model.base_model.model.model.layers.6.mlp.gate_proj.lora_A.default.weight', 'base_model.model.base_model.model.base_model.model.base_model.model.base_model.model.base_model.model.model.layers.6.mlp.gate_proj.lora_B.default.weight', 'base_model.model.base_model.model.base_model.model.base_model.model.base_model.model.base_model.model.model.layers.6.mlp.up_proj.lora_A.default.weight', 'base_model.model.base_model.model.base_model.model.base_model.model.base_model.model.base_model.model.model.layers.6.mlp.up_proj.lora_B.default.weight', 'base_model.model.base_model.model.base_model.model.base_model.model.base_model.model.base_model.model.model.layers.6.mlp.down_proj.lora_A.default.weight', 'base_model.model.base_model.model.base_model.model.base_model.model.base_model.model.base_model.model.model.layers.6.mlp.down_proj.lora_B.default.weight', 'base_model.model.base_model.model.base_model.model.base_model.model.base_model.model.base_model.model.model.layers.7.self_attn.q_proj.lora_A.default.weight', 'base_model.model.base_model.model.base_model.model.base_model.model.base_model.model.base_model.model.model.layers.7.self_attn.q_proj.lora_B.default.weight', 'base_model.model.base_model.model.base_model.model.base_model.model.base_model.model.base_model.model.model.layers.7.self_attn.k_proj.lora_A.default.weight', 'base_model.model.base_model.model.base_model.model.base_model.model.base_model.model.base_model.model.model.layers.7.self_attn.k_proj.lora_B.default.weight', 'base_model.model.base_model.model.base_model.model.base_model.model.base_model.model.base_model.model.model.layers.7.self_attn.v_proj.lora_A.default.weight', 'base_model.model.base_model.model.base_model.model.base_model.model.base_model.model.base_model.model.model.layers.7.self_attn.v_proj.lora_B.default.weight', 'base_model.model.base_model.model.base_model.model.base_model.model.base_model.model.base_model.model.model.layers.7.self_attn.o_proj.lora_A.default.weight', 'base_model.model.base_model.model.base_model.model.base_model.model.base_model.model.base_model.model.model.layers.7.self_attn.o_proj.lora_B.default.weight', 'base_model.model.base_model.model.base_model.model.base_model.model.base_model.model.base_model.model.model.layers.7.mlp.gate_proj.lora_A.default.weight', 'base_model.model.base_model.model.base_model.model.base_model.model.base_model.model.base_model.model.model.layers.7.mlp.gate_proj.lora_B.default.weight', 'base_model.model.base_model.model.base_model.model.base_model.model.base_model.model.base_model.model.model.layers.7.mlp.up_proj.lora_A.default.weight', 'base_model.model.base_model.model.base_model.model.base_model.model.base_model.model.base_model.model.model.layers.7.mlp.up_proj.lora_B.default.weight', 'base_model.model.base_model.model.base_model.model.base_model.model.base_model.model.base_model.model.model.layers.7.mlp.down_proj.lora_A.default.weight', 'base_model.model.base_model.model.base_model.model.base_model.model.base_model.model.base_model.model.model.layers.7.mlp.down_proj.lora_B.default.weight', 'base_model.model.base_model.model.base_model.model.base_model.model.base_model.model.base_model.model.model.layers.8.self_attn.q_proj.lora_A.default.weight', 'base_model.model.base_model.model.base_model.model.base_model.model.base_model.model.base_model.model.model.layers.8.self_attn.q_proj.lora_B.default.weight', 'base_model.model.base_model.model.base_model.model.base_model.model.base_model.model.base_model.model.model.layers.8.self_attn.k_proj.lora_A.default.weight', 'base_model.model.base_model.model.base_model.model.base_model.model.base_model.model.base_model.model.model.layers.8.self_attn.k_proj.lora_B.default.weight', 'base_model.model.base_model.model.base_model.model.base_model.model.base_model.model.base_model.model.model.layers.8.self_attn.v_proj.lora_A.default.weight', 'base_model.model.base_model.model.base_model.model.base_model.model.base_model.model.base_model.model.model.layers.8.self_attn.v_proj.lora_B.default.weight', 'base_model.model.base_model.model.base_model.model.base_model.model.base_model.model.base_model.model.model.layers.8.self_attn.o_proj.lora_A.default.weight', 'base_model.model.base_model.model.base_model.model.base_model.model.base_model.model.base_model.model.model.layers.8.self_attn.o_proj.lora_B.default.weight', 'base_model.model.base_model.model.base_model.model.base_model.model.base_model.model.base_model.model.model.layers.8.mlp.gate_proj.lora_A.default.weight', 'base_model.model.base_model.model.base_model.model.base_model.model.base_model.model.base_model.model.model.layers.8.mlp.gate_proj.lora_B.default.weight', 'base_model.model.base_model.model.base_model.model.base_model.model.base_model.model.base_model.model.model.layers.8.mlp.up_proj.lora_A.default.weight', 'base_model.model.base_model.model.base_model.model.base_model.model.base_model.model.base_model.model.model.layers.8.mlp.up_proj.lora_B.default.weight', 'base_model.model.base_model.model.base_model.model.base_model.model.base_model.model.base_model.model.model.layers.8.mlp.down_proj.lora_A.default.weight', 'base_model.model.base_model.model.base_model.model.base_model.model.base_model.model.base_model.model.model.layers.8.mlp.down_proj.lora_B.default.weight', 'base_model.model.base_model.model.base_model.model.base_model.model.base_model.model.base_model.model.model.layers.9.self_attn.q_proj.lora_A.default.weight', 'base_model.model.base_model.model.base_model.model.base_model.model.base_model.model.base_model.model.model.layers.9.self_attn.q_proj.lora_B.default.weight', 'base_model.model.base_model.model.base_model.model.base_model.model.base_model.model.base_model.model.model.layers.9.self_attn.k_proj.lora_A.default.weight', 'base_model.model.base_model.model.base_model.model.base_model.model.base_model.model.base_model.model.model.layers.9.self_attn.k_proj.lora_B.default.weight', 'base_model.model.base_model.model.base_model.model.base_model.model.base_model.model.base_model.model.model.layers.9.self_attn.v_proj.lora_A.default.weight', 'base_model.model.base_model.model.base_model.model.base_model.model.base_model.model.base_model.model.model.layers.9.self_attn.v_proj.lora_B.default.weight', 'base_model.model.base_model.model.base_model.model.base_model.model.base_model.model.base_model.model.model.layers.9.self_attn.o_proj.lora_A.default.weight', 'base_model.model.base_model.model.base_model.model.base_model.model.base_model.model.base_model.model.model.layers.9.self_attn.o_proj.lora_B.default.weight', 'base_model.model.base_model.model.base_model.model.base_model.model.base_model.model.base_model.model.model.layers.9.mlp.gate_proj.lora_A.default.weight', 'base_model.model.base_model.model.base_model.model.base_model.model.base_model.model.base_model.model.model.layers.9.mlp.gate_proj.lora_B.default.weight', 'base_model.model.base_model.model.base_model.model.base_model.model.base_model.model.base_model.model.model.layers.9.mlp.up_proj.lora_A.default.weight', 'base_model.model.base_model.model.base_model.model.base_model.model.base_model.model.base_model.model.model.layers.9.mlp.up_proj.lora_B.default.weight', 'base_model.model.base_model.model.base_model.model.base_model.model.base_model.model.base_model.model.model.layers.9.mlp.down_proj.lora_A.default.weight', 'base_model.model.base_model.model.base_model.model.base_model.model.base_model.model.base_model.model.model.layers.9.mlp.down_proj.lora_B.default.weight', 'base_model.model.base_model.model.base_model.model.base_model.model.base_model.model.base_model.model.model.layers.10.self_attn.q_proj.lora_A.default.weight', 'base_model.model.base_model.model.base_model.model.base_model.model.base_model.model.base_model.model.model.layers.10.self_attn.q_proj.lora_B.default.weight', 'base_model.model.base_model.model.base_model.model.base_model.model.base_model.model.base_model.model.model.layers.10.self_attn.k_proj.lora_A.default.weight', 'base_model.model.base_model.model.base_model.model.base_model.model.base_model.model.base_model.model.model.layers.10.self_attn.k_proj.lora_B.default.weight', 'base_model.model.base_model.model.base_model.model.base_model.model.base_model.model.base_model.model.model.layers.10.self_attn.v_proj.lora_A.default.weight', 'base_model.model.base_model.model.base_model.model.base_model.model.base_model.model.base_model.model.model.layers.10.self_attn.v_proj.lora_B.default.weight', 'base_model.model.base_model.model.base_model.model.base_model.model.base_model.model.base_model.model.model.layers.10.self_attn.o_proj.lora_A.default.weight', 'base_model.model.base_model.model.base_model.model.base_model.model.base_model.model.base_model.model.model.layers.10.self_attn.o_proj.lora_B.default.weight', 'base_model.model.base_model.model.base_model.model.base_model.model.base_model.model.base_model.model.model.layers.10.mlp.gate_proj.lora_A.default.weight', 'base_model.model.base_model.model.base_model.model.base_model.model.base_model.model.base_model.model.model.layers.10.mlp.gate_proj.lora_B.default.weight', 'base_model.model.base_model.model.base_model.model.base_model.model.base_model.model.base_model.model.model.layers.10.mlp.up_proj.lora_A.default.weight', 'base_model.model.base_model.model.base_model.model.base_model.model.base_model.model.base_model.model.model.layers.10.mlp.up_proj.lora_B.default.weight', 'base_model.model.base_model.model.base_model.model.base_model.model.base_model.model.base_model.model.model.layers.10.mlp.down_proj.lora_A.default.weight', 'base_model.model.base_model.model.base_model.model.base_model.model.base_model.model.base_model.model.model.layers.10.mlp.down_proj.lora_B.default.weight', 'base_model.model.base_model.model.base_model.model.base_model.model.base_model.model.base_model.model.model.layers.11.self_attn.q_proj.lora_A.default.weight', 'base_model.model.base_model.model.base_model.model.base_model.model.base_model.model.base_model.model.model.layers.11.self_attn.q_proj.lora_B.default.weight', 'base_model.model.base_model.model.base_model.model.base_model.model.base_model.model.base_model.model.model.layers.11.self_attn.k_proj.lora_A.default.weight', 'base_model.model.base_model.model.base_model.model.base_model.model.base_model.model.base_model.model.model.layers.11.self_attn.k_proj.lora_B.default.weight', 'base_model.model.base_model.model.base_model.model.base_model.model.base_model.model.base_model.model.model.layers.11.self_attn.v_proj.lora_A.default.weight', 'base_model.model.base_model.model.base_model.model.base_model.model.base_model.model.base_model.model.model.layers.11.self_attn.v_proj.lora_B.default.weight', 'base_model.model.base_model.model.base_model.model.base_model.model.base_model.model.base_model.model.model.layers.11.self_attn.o_proj.lora_A.default.weight', 'base_model.model.base_model.model.base_model.model.base_model.model.base_model.model.base_model.model.model.layers.11.self_attn.o_proj.lora_B.default.weight', 'base_model.model.base_model.model.base_model.model.base_model.model.base_model.model.base_model.model.model.layers.11.mlp.gate_proj.lora_A.default.weight', 'base_model.model.base_model.model.base_model.model.base_model.model.base_model.model.base_model.model.model.layers.11.mlp.gate_proj.lora_B.default.weight', 'base_model.model.base_model.model.base_model.model.base_model.model.base_model.model.base_model.model.model.layers.11.mlp.up_proj.lora_A.default.weight', 'base_model.model.base_model.model.base_model.model.base_model.model.base_model.model.base_model.model.model.layers.11.mlp.up_proj.lora_B.default.weight', 'base_model.model.base_model.model.base_model.model.base_model.model.base_model.model.base_model.model.model.layers.11.mlp.down_proj.lora_A.default.weight', 'base_model.model.base_model.model.base_model.model.base_model.model.base_model.model.base_model.model.model.layers.11.mlp.down_proj.lora_B.default.weight', 'base_model.model.base_model.model.base_model.model.base_model.model.base_model.model.base_model.model.model.layers.12.self_attn.q_proj.lora_A.default.weight', 'base_model.model.base_model.model.base_model.model.base_model.model.base_model.model.base_model.model.model.layers.12.self_attn.q_proj.lora_B.default.weight', 'base_model.model.base_model.model.base_model.model.base_model.model.base_model.model.base_model.model.model.layers.12.self_attn.k_proj.lora_A.default.weight', 'base_model.model.base_model.model.base_model.model.base_model.model.base_model.model.base_model.model.model.layers.12.self_attn.k_proj.lora_B.default.weight', 'base_model.model.base_model.model.base_model.model.base_model.model.base_model.model.base_model.model.model.layers.12.self_attn.v_proj.lora_A.default.weight', 'base_model.model.base_model.model.base_model.model.base_model.model.base_model.model.base_model.model.model.layers.12.self_attn.v_proj.lora_B.default.weight', 'base_model.model.base_model.model.base_model.model.base_model.model.base_model.model.base_model.model.model.layers.12.self_attn.o_proj.lora_A.default.weight', 'base_model.model.base_model.model.base_model.model.base_model.model.base_model.model.base_model.model.model.layers.12.self_attn.o_proj.lora_B.default.weight', 'base_model.model.base_model.model.base_model.model.base_model.model.base_model.model.base_model.model.model.layers.12.mlp.gate_proj.lora_A.default.weight', 'base_model.model.base_model.model.base_model.model.base_model.model.base_model.model.base_model.model.model.layers.12.mlp.gate_proj.lora_B.default.weight', 'base_model.model.base_model.model.base_model.model.base_model.model.base_model.model.base_model.model.model.layers.12.mlp.up_proj.lora_A.default.weight', 'base_model.model.base_model.model.base_model.model.base_model.model.base_model.model.base_model.model.model.layers.12.mlp.up_proj.lora_B.default.weight', 'base_model.model.base_model.model.base_model.model.base_model.model.base_model.model.base_model.model.model.layers.12.mlp.down_proj.lora_A.default.weight', 'base_model.model.base_model.model.base_model.model.base_model.model.base_model.model.base_model.model.model.layers.12.mlp.down_proj.lora_B.default.weight', 'base_model.model.base_model.model.base_model.model.base_model.model.base_model.model.base_model.model.model.layers.13.self_attn.q_proj.lora_A.default.weight', 'base_model.model.base_model.model.base_model.model.base_model.model.base_model.model.base_model.model.model.layers.13.self_attn.q_proj.lora_B.default.weight', 'base_model.model.base_model.model.base_model.model.base_model.model.base_model.model.base_model.model.model.layers.13.self_attn.k_proj.lora_A.default.weight', 'base_model.model.base_model.model.base_model.model.base_model.model.base_model.model.base_model.model.model.layers.13.self_attn.k_proj.lora_B.default.weight', 'base_model.model.base_model.model.base_model.model.base_model.model.base_model.model.base_model.model.model.layers.13.self_attn.v_proj.lora_A.default.weight', 'base_model.model.base_model.model.base_model.model.base_model.model.base_model.model.base_model.model.model.layers.13.self_attn.v_proj.lora_B.default.weight', 'base_model.model.base_model.model.base_model.model.base_model.model.base_model.model.base_model.model.model.layers.13.self_attn.o_proj.lora_A.default.weight', 'base_model.model.base_model.model.base_model.model.base_model.model.base_model.model.base_model.model.model.layers.13.self_attn.o_proj.lora_B.default.weight', 'base_model.model.base_model.model.base_model.model.base_model.model.base_model.model.base_model.model.model.layers.13.mlp.gate_proj.lora_A.default.weight', 'base_model.model.base_model.model.base_model.model.base_model.model.base_model.model.base_model.model.model.layers.13.mlp.gate_proj.lora_B.default.weight', 'base_model.model.base_model.model.base_model.model.base_model.model.base_model.model.base_model.model.model.layers.13.mlp.up_proj.lora_A.default.weight', 'base_model.model.base_model.model.base_model.model.base_model.model.base_model.model.base_model.model.model.layers.13.mlp.up_proj.lora_B.default.weight', 'base_model.model.base_model.model.base_model.model.base_model.model.base_model.model.base_model.model.model.layers.13.mlp.down_proj.lora_A.default.weight', 'base_model.model.base_model.model.base_model.model.base_model.model.base_model.model.base_model.model.model.layers.13.mlp.down_proj.lora_B.default.weight', 'base_model.model.base_model.model.base_model.model.base_model.model.base_model.model.base_model.model.model.layers.14.self_attn.q_proj.lora_A.default.weight', 'base_model.model.base_model.model.base_model.model.base_model.model.base_model.model.base_model.model.model.layers.14.self_attn.q_proj.lora_B.default.weight', 'base_model.model.base_model.model.base_model.model.base_model.model.base_model.model.base_model.model.model.layers.14.self_attn.k_proj.lora_A.default.weight', 'base_model.model.base_model.model.base_model.model.base_model.model.base_model.model.base_model.model.model.layers.14.self_attn.k_proj.lora_B.default.weight', 'base_model.model.base_model.model.base_model.model.base_model.model.base_model.model.base_model.model.model.layers.14.self_attn.v_proj.lora_A.default.weight', 'base_model.model.base_model.model.base_model.model.base_model.model.base_model.model.base_model.model.model.layers.14.self_attn.v_proj.lora_B.default.weight', 'base_model.model.base_model.model.base_model.model.base_model.model.base_model.model.base_model.model.model.layers.14.self_attn.o_proj.lora_A.default.weight', 'base_model.model.base_model.model.base_model.model.base_model.model.base_model.model.base_model.model.model.layers.14.self_attn.o_proj.lora_B.default.weight', 'base_model.model.base_model.model.base_model.model.base_model.model.base_model.model.base_model.model.model.layers.14.mlp.gate_proj.lora_A.default.weight', 'base_model.model.base_model.model.base_model.model.base_model.model.base_model.model.base_model.model.model.layers.14.mlp.gate_proj.lora_B.default.weight', 'base_model.model.base_model.model.base_model.model.base_model.model.base_model.model.base_model.model.model.layers.14.mlp.up_proj.lora_A.default.weight', 'base_model.model.base_model.model.base_model.model.base_model.model.base_model.model.base_model.model.model.layers.14.mlp.up_proj.lora_B.default.weight', 'base_model.model.base_model.model.base_model.model.base_model.model.base_model.model.base_model.model.model.layers.14.mlp.down_proj.lora_A.default.weight', 'base_model.model.base_model.model.base_model.model.base_model.model.base_model.model.base_model.model.model.layers.14.mlp.down_proj.lora_B.default.weight', 'base_model.model.base_model.model.base_model.model.base_model.model.base_model.model.base_model.model.model.layers.15.self_attn.q_proj.lora_A.default.weight', 'base_model.model.base_model.model.base_model.model.base_model.model.base_model.model.base_model.model.model.layers.15.self_attn.q_proj.lora_B.default.weight', 'base_model.model.base_model.model.base_model.model.base_model.model.base_model.model.base_model.model.model.layers.15.self_attn.k_proj.lora_A.default.weight', 'base_model.model.base_model.model.base_model.model.base_model.model.base_model.model.base_model.model.model.layers.15.self_attn.k_proj.lora_B.default.weight', 'base_model.model.base_model.model.base_model.model.base_model.model.base_model.model.base_model.model.model.layers.15.self_attn.v_proj.lora_A.default.weight', 'base_model.model.base_model.model.base_model.model.base_model.model.base_model.model.base_model.model.model.layers.15.self_attn.v_proj.lora_B.default.weight', 'base_model.model.base_model.model.base_model.model.base_model.model.base_model.model.base_model.model.model.layers.15.self_attn.o_proj.lora_A.default.weight', 'base_model.model.base_model.model.base_model.model.base_model.model.base_model.model.base_model.model.model.layers.15.self_attn.o_proj.lora_B.default.weight', 'base_model.model.base_model.model.base_model.model.base_model.model.base_model.model.base_model.model.model.layers.15.mlp.gate_proj.lora_A.default.weight', 'base_model.model.base_model.model.base_model.model.base_model.model.base_model.model.base_model.model.model.layers.15.mlp.gate_proj.lora_B.default.weight', 'base_model.model.base_model.model.base_model.model.base_model.model.base_model.model.base_model.model.model.layers.15.mlp.up_proj.lora_A.default.weight', 'base_model.model.base_model.model.base_model.model.base_model.model.base_model.model.base_model.model.model.layers.15.mlp.up_proj.lora_B.default.weight', 'base_model.model.base_model.model.base_model.model.base_model.model.base_model.model.base_model.model.model.layers.15.mlp.down_proj.lora_A.default.weight', 'base_model.model.base_model.model.base_model.model.base_model.model.base_model.model.base_model.model.model.layers.15.mlp.down_proj.lora_B.default.weight', 'base_model.model.base_model.model.base_model.model.base_model.model.base_model.model.base_model.model.model.layers.16.self_attn.q_proj.lora_A.default.weight', 'base_model.model.base_model.model.base_model.model.base_model.model.base_model.model.base_model.model.model.layers.16.self_attn.q_proj.lora_B.default.weight', 'base_model.model.base_model.model.base_model.model.base_model.model.base_model.model.base_model.model.model.layers.16.self_attn.k_proj.lora_A.default.weight', 'base_model.model.base_model.model.base_model.model.base_model.model.base_model.model.base_model.model.model.layers.16.self_attn.k_proj.lora_B.default.weight', 'base_model.model.base_model.model.base_model.model.base_model.model.base_model.model.base_model.model.model.layers.16.self_attn.v_proj.lora_A.default.weight', 'base_model.model.base_model.model.base_model.model.base_model.model.base_model.model.base_model.model.model.layers.16.self_attn.v_proj.lora_B.default.weight', 'base_model.model.base_model.model.base_model.model.base_model.model.base_model.model.base_model.model.model.layers.16.self_attn.o_proj.lora_A.default.weight', 'base_model.model.base_model.model.base_model.model.base_model.model.base_model.model.base_model.model.model.layers.16.self_attn.o_proj.lora_B.default.weight', 'base_model.model.base_model.model.base_model.model.base_model.model.base_model.model.base_model.model.model.layers.16.mlp.gate_proj.lora_A.default.weight', 'base_model.model.base_model.model.base_model.model.base_model.model.base_model.model.base_model.model.model.layers.16.mlp.gate_proj.lora_B.default.weight', 'base_model.model.base_model.model.base_model.model.base_model.model.base_model.model.base_model.model.model.layers.16.mlp.up_proj.lora_A.default.weight', 'base_model.model.base_model.model.base_model.model.base_model.model.base_model.model.base_model.model.model.layers.16.mlp.up_proj.lora_B.default.weight', 'base_model.model.base_model.model.base_model.model.base_model.model.base_model.model.base_model.model.model.layers.16.mlp.down_proj.lora_A.default.weight', 'base_model.model.base_model.model.base_model.model.base_model.model.base_model.model.base_model.model.model.layers.16.mlp.down_proj.lora_B.default.weight', 'base_model.model.base_model.model.base_model.model.base_model.model.base_model.model.base_model.model.model.layers.17.self_attn.q_proj.lora_A.default.weight', 'base_model.model.base_model.model.base_model.model.base_model.model.base_model.model.base_model.model.model.layers.17.self_attn.q_proj.lora_B.default.weight', 'base_model.model.base_model.model.base_model.model.base_model.model.base_model.model.base_model.model.model.layers.17.self_attn.k_proj.lora_A.default.weight', 'base_model.model.base_model.model.base_model.model.base_model.model.base_model.model.base_model.model.model.layers.17.self_attn.k_proj.lora_B.default.weight', 'base_model.model.base_model.model.base_model.model.base_model.model.base_model.model.base_model.model.model.layers.17.self_attn.v_proj.lora_A.default.weight', 'base_model.model.base_model.model.base_model.model.base_model.model.base_model.model.base_model.model.model.layers.17.self_attn.v_proj.lora_B.default.weight', 'base_model.model.base_model.model.base_model.model.base_model.model.base_model.model.base_model.model.model.layers.17.self_attn.o_proj.lora_A.default.weight', 'base_model.model.base_model.model.base_model.model.base_model.model.base_model.model.base_model.model.model.layers.17.self_attn.o_proj.lora_B.default.weight', 'base_model.model.base_model.model.base_model.model.base_model.model.base_model.model.base_model.model.model.layers.17.mlp.gate_proj.lora_A.default.weight', 'base_model.model.base_model.model.base_model.model.base_model.model.base_model.model.base_model.model.model.layers.17.mlp.gate_proj.lora_B.default.weight', 'base_model.model.base_model.model.base_model.model.base_model.model.base_model.model.base_model.model.model.layers.17.mlp.up_proj.lora_A.default.weight', 'base_model.model.base_model.model.base_model.model.base_model.model.base_model.model.base_model.model.model.layers.17.mlp.up_proj.lora_B.default.weight', 'base_model.model.base_model.model.base_model.model.base_model.model.base_model.model.base_model.model.model.layers.17.mlp.down_proj.lora_A.default.weight', 'base_model.model.base_model.model.base_model.model.base_model.model.base_model.model.base_model.model.model.layers.17.mlp.down_proj.lora_B.default.weight', 'base_model.model.base_model.model.base_model.model.base_model.model.base_model.model.base_model.model.model.layers.18.self_attn.q_proj.lora_A.default.weight', 'base_model.model.base_model.model.base_model.model.base_model.model.base_model.model.base_model.model.model.layers.18.self_attn.q_proj.lora_B.default.weight', 'base_model.model.base_model.model.base_model.model.base_model.model.base_model.model.base_model.model.model.layers.18.self_attn.k_proj.lora_A.default.weight', 'base_model.model.base_model.model.base_model.model.base_model.model.base_model.model.base_model.model.model.layers.18.self_attn.k_proj.lora_B.default.weight', 'base_model.model.base_model.model.base_model.model.base_model.model.base_model.model.base_model.model.model.layers.18.self_attn.v_proj.lora_A.default.weight', 'base_model.model.base_model.model.base_model.model.base_model.model.base_model.model.base_model.model.model.layers.18.self_attn.v_proj.lora_B.default.weight', 'base_model.model.base_model.model.base_model.model.base_model.model.base_model.model.base_model.model.model.layers.18.self_attn.o_proj.lora_A.default.weight', 'base_model.model.base_model.model.base_model.model.base_model.model.base_model.model.base_model.model.model.layers.18.self_attn.o_proj.lora_B.default.weight', 'base_model.model.base_model.model.base_model.model.base_model.model.base_model.model.base_model.model.model.layers.18.mlp.gate_proj.lora_A.default.weight', 'base_model.model.base_model.model.base_model.model.base_model.model.base_model.model.base_model.model.model.layers.18.mlp.gate_proj.lora_B.default.weight', 'base_model.model.base_model.model.base_model.model.base_model.model.base_model.model.base_model.model.model.layers.18.mlp.up_proj.lora_A.default.weight', 'base_model.model.base_model.model.base_model.model.base_model.model.base_model.model.base_model.model.model.layers.18.mlp.up_proj.lora_B.default.weight', 'base_model.model.base_model.model.base_model.model.base_model.model.base_model.model.base_model.model.model.layers.18.mlp.down_proj.lora_A.default.weight', 'base_model.model.base_model.model.base_model.model.base_model.model.base_model.model.base_model.model.model.layers.18.mlp.down_proj.lora_B.default.weight', 'base_model.model.base_model.model.base_model.model.base_model.model.base_model.model.base_model.model.model.layers.19.self_attn.q_proj.lora_A.default.weight', 'base_model.model.base_model.model.base_model.model.base_model.model.base_model.model.base_model.model.model.layers.19.self_attn.q_proj.lora_B.default.weight', 'base_model.model.base_model.model.base_model.model.base_model.model.base_model.model.base_model.model.model.layers.19.self_attn.k_proj.lora_A.default.weight', 'base_model.model.base_model.model.base_model.model.base_model.model.base_model.model.base_model.model.model.layers.19.self_attn.k_proj.lora_B.default.weight', 'base_model.model.base_model.model.base_model.model.base_model.model.base_model.model.base_model.model.model.layers.19.self_attn.v_proj.lora_A.default.weight', 'base_model.model.base_model.model.base_model.model.base_model.model.base_model.model.base_model.model.model.layers.19.self_attn.v_proj.lora_B.default.weight', 'base_model.model.base_model.model.base_model.model.base_model.model.base_model.model.base_model.model.model.layers.19.self_attn.o_proj.lora_A.default.weight', 'base_model.model.base_model.model.base_model.model.base_model.model.base_model.model.base_model.model.model.layers.19.self_attn.o_proj.lora_B.default.weight', 'base_model.model.base_model.model.base_model.model.base_model.model.base_model.model.base_model.model.model.layers.19.mlp.gate_proj.lora_A.default.weight', 'base_model.model.base_model.model.base_model.model.base_model.model.base_model.model.base_model.model.model.layers.19.mlp.gate_proj.lora_B.default.weight', 'base_model.model.base_model.model.base_model.model.base_model.model.base_model.model.base_model.model.model.layers.19.mlp.up_proj.lora_A.default.weight', 'base_model.model.base_model.model.base_model.model.base_model.model.base_model.model.base_model.model.model.layers.19.mlp.up_proj.lora_B.default.weight', 'base_model.model.base_model.model.base_model.model.base_model.model.base_model.model.base_model.model.model.layers.19.mlp.down_proj.lora_A.default.weight', 'base_model.model.base_model.model.base_model.model.base_model.model.base_model.model.base_model.model.model.layers.19.mlp.down_proj.lora_B.default.weight', 'base_model.model.base_model.model.base_model.model.base_model.model.base_model.model.base_model.model.model.layers.20.self_attn.q_proj.lora_A.default.weight', 'base_model.model.base_model.model.base_model.model.base_model.model.base_model.model.base_model.model.model.layers.20.self_attn.q_proj.lora_B.default.weight', 'base_model.model.base_model.model.base_model.model.base_model.model.base_model.model.base_model.model.model.layers.20.self_attn.k_proj.lora_A.default.weight', 'base_model.model.base_model.model.base_model.model.base_model.model.base_model.model.base_model.model.model.layers.20.self_attn.k_proj.lora_B.default.weight', 'base_model.model.base_model.model.base_model.model.base_model.model.base_model.model.base_model.model.model.layers.20.self_attn.v_proj.lora_A.default.weight', 'base_model.model.base_model.model.base_model.model.base_model.model.base_model.model.base_model.model.model.layers.20.self_attn.v_proj.lora_B.default.weight', 'base_model.model.base_model.model.base_model.model.base_model.model.base_model.model.base_model.model.model.layers.20.self_attn.o_proj.lora_A.default.weight', 'base_model.model.base_model.model.base_model.model.base_model.model.base_model.model.base_model.model.model.layers.20.self_attn.o_proj.lora_B.default.weight', 'base_model.model.base_model.model.base_model.model.base_model.model.base_model.model.base_model.model.model.layers.20.mlp.gate_proj.lora_A.default.weight', 'base_model.model.base_model.model.base_model.model.base_model.model.base_model.model.base_model.model.model.layers.20.mlp.gate_proj.lora_B.default.weight', 'base_model.model.base_model.model.base_model.model.base_model.model.base_model.model.base_model.model.model.layers.20.mlp.up_proj.lora_A.default.weight', 'base_model.model.base_model.model.base_model.model.base_model.model.base_model.model.base_model.model.model.layers.20.mlp.up_proj.lora_B.default.weight', 'base_model.model.base_model.model.base_model.model.base_model.model.base_model.model.base_model.model.model.layers.20.mlp.down_proj.lora_A.default.weight', 'base_model.model.base_model.model.base_model.model.base_model.model.base_model.model.base_model.model.model.layers.20.mlp.down_proj.lora_B.default.weight', 'base_model.model.base_model.model.base_model.model.base_model.model.base_model.model.base_model.model.model.layers.21.self_attn.q_proj.lora_A.default.weight', 'base_model.model.base_model.model.base_model.model.base_model.model.base_model.model.base_model.model.model.layers.21.self_attn.q_proj.lora_B.default.weight', 'base_model.model.base_model.model.base_model.model.base_model.model.base_model.model.base_model.model.model.layers.21.self_attn.k_proj.lora_A.default.weight', 'base_model.model.base_model.model.base_model.model.base_model.model.base_model.model.base_model.model.model.layers.21.self_attn.k_proj.lora_B.default.weight', 'base_model.model.base_model.model.base_model.model.base_model.model.base_model.model.base_model.model.model.layers.21.self_attn.v_proj.lora_A.default.weight', 'base_model.model.base_model.model.base_model.model.base_model.model.base_model.model.base_model.model.model.layers.21.self_attn.v_proj.lora_B.default.weight', 'base_model.model.base_model.model.base_model.model.base_model.model.base_model.model.base_model.model.model.layers.21.self_attn.o_proj.lora_A.default.weight', 'base_model.model.base_model.model.base_model.model.base_model.model.base_model.model.base_model.model.model.layers.21.self_attn.o_proj.lora_B.default.weight', 'base_model.model.base_model.model.base_model.model.base_model.model.base_model.model.base_model.model.model.layers.21.mlp.gate_proj.lora_A.default.weight', 'base_model.model.base_model.model.base_model.model.base_model.model.base_model.model.base_model.model.model.layers.21.mlp.gate_proj.lora_B.default.weight', 'base_model.model.base_model.model.base_model.model.base_model.model.base_model.model.base_model.model.model.layers.21.mlp.up_proj.lora_A.default.weight', 'base_model.model.base_model.model.base_model.model.base_model.model.base_model.model.base_model.model.model.layers.21.mlp.up_proj.lora_B.default.weight', 'base_model.model.base_model.model.base_model.model.base_model.model.base_model.model.base_model.model.model.layers.21.mlp.down_proj.lora_A.default.weight', 'base_model.model.base_model.model.base_model.model.base_model.model.base_model.model.base_model.model.model.layers.21.mlp.down_proj.lora_B.default.weight', 'base_model.model.base_model.model.base_model.model.base_model.model.base_model.model.base_model.model.model.layers.22.self_attn.q_proj.lora_A.default.weight', 'base_model.model.base_model.model.base_model.model.base_model.model.base_model.model.base_model.model.model.layers.22.self_attn.q_proj.lora_B.default.weight', 'base_model.model.base_model.model.base_model.model.base_model.model.base_model.model.base_model.model.model.layers.22.self_attn.k_proj.lora_A.default.weight', 'base_model.model.base_model.model.base_model.model.base_model.model.base_model.model.base_model.model.model.layers.22.self_attn.k_proj.lora_B.default.weight', 'base_model.model.base_model.model.base_model.model.base_model.model.base_model.model.base_model.model.model.layers.22.self_attn.v_proj.lora_A.default.weight', 'base_model.model.base_model.model.base_model.model.base_model.model.base_model.model.base_model.model.model.layers.22.self_attn.v_proj.lora_B.default.weight', 'base_model.model.base_model.model.base_model.model.base_model.model.base_model.model.base_model.model.model.layers.22.self_attn.o_proj.lora_A.default.weight', 'base_model.model.base_model.model.base_model.model.base_model.model.base_model.model.base_model.model.model.layers.22.self_attn.o_proj.lora_B.default.weight', 'base_model.model.base_model.model.base_model.model.base_model.model.base_model.model.base_model.model.model.layers.22.mlp.gate_proj.lora_A.default.weight', 'base_model.model.base_model.model.base_model.model.base_model.model.base_model.model.base_model.model.model.layers.22.mlp.gate_proj.lora_B.default.weight', 'base_model.model.base_model.model.base_model.model.base_model.model.base_model.model.base_model.model.model.layers.22.mlp.up_proj.lora_A.default.weight', 'base_model.model.base_model.model.base_model.model.base_model.model.base_model.model.base_model.model.model.layers.22.mlp.up_proj.lora_B.default.weight', 'base_model.model.base_model.model.base_model.model.base_model.model.base_model.model.base_model.model.model.layers.22.mlp.down_proj.lora_A.default.weight', 'base_model.model.base_model.model.base_model.model.base_model.model.base_model.model.base_model.model.model.layers.22.mlp.down_proj.lora_B.default.weight', 'base_model.model.base_model.model.base_model.model.base_model.model.base_model.model.base_model.model.model.layers.23.self_attn.q_proj.lora_A.default.weight', 'base_model.model.base_model.model.base_model.model.base_model.model.base_model.model.base_model.model.model.layers.23.self_attn.q_proj.lora_B.default.weight', 'base_model.model.base_model.model.base_model.model.base_model.model.base_model.model.base_model.model.model.layers.23.self_attn.k_proj.lora_A.default.weight', 'base_model.model.base_model.model.base_model.model.base_model.model.base_model.model.base_model.model.model.layers.23.self_attn.k_proj.lora_B.default.weight', 'base_model.model.base_model.model.base_model.model.base_model.model.base_model.model.base_model.model.model.layers.23.self_attn.v_proj.lora_A.default.weight', 'base_model.model.base_model.model.base_model.model.base_model.model.base_model.model.base_model.model.model.layers.23.self_attn.v_proj.lora_B.default.weight', 'base_model.model.base_model.model.base_model.model.base_model.model.base_model.model.base_model.model.model.layers.23.self_attn.o_proj.lora_A.default.weight', 'base_model.model.base_model.model.base_model.model.base_model.model.base_model.model.base_model.model.model.layers.23.self_attn.o_proj.lora_B.default.weight', 'base_model.model.base_model.model.base_model.model.base_model.model.base_model.model.base_model.model.model.layers.23.mlp.gate_proj.lora_A.default.weight', 'base_model.model.base_model.model.base_model.model.base_model.model.base_model.model.base_model.model.model.layers.23.mlp.gate_proj.lora_B.default.weight', 'base_model.model.base_model.model.base_model.model.base_model.model.base_model.model.base_model.model.model.layers.23.mlp.up_proj.lora_A.default.weight', 'base_model.model.base_model.model.base_model.model.base_model.model.base_model.model.base_model.model.model.layers.23.mlp.up_proj.lora_B.default.weight', 'base_model.model.base_model.model.base_model.model.base_model.model.base_model.model.base_model.model.model.layers.23.mlp.down_proj.lora_A.default.weight', 'base_model.model.base_model.model.base_model.model.base_model.model.base_model.model.base_model.model.model.layers.23.mlp.down_proj.lora_B.default.weight', 'base_model.model.base_model.model.base_model.model.base_model.model.base_model.model.base_model.model.model.layers.24.self_attn.q_proj.lora_A.default.weight', 'base_model.model.base_model.model.base_model.model.base_model.model.base_model.model.base_model.model.model.layers.24.self_attn.q_proj.lora_B.default.weight', 'base_model.model.base_model.model.base_model.model.base_model.model.base_model.model.base_model.model.model.layers.24.self_attn.k_proj.lora_A.default.weight', 'base_model.model.base_model.model.base_model.model.base_model.model.base_model.model.base_model.model.model.layers.24.self_attn.k_proj.lora_B.default.weight', 'base_model.model.base_model.model.base_model.model.base_model.model.base_model.model.base_model.model.model.layers.24.self_attn.v_proj.lora_A.default.weight', 'base_model.model.base_model.model.base_model.model.base_model.model.base_model.model.base_model.model.model.layers.24.self_attn.v_proj.lora_B.default.weight', 'base_model.model.base_model.model.base_model.model.base_model.model.base_model.model.base_model.model.model.layers.24.self_attn.o_proj.lora_A.default.weight', 'base_model.model.base_model.model.base_model.model.base_model.model.base_model.model.base_model.model.model.layers.24.self_attn.o_proj.lora_B.default.weight', 'base_model.model.base_model.model.base_model.model.base_model.model.base_model.model.base_model.model.model.layers.24.mlp.gate_proj.lora_A.default.weight', 'base_model.model.base_model.model.base_model.model.base_model.model.base_model.model.base_model.model.model.layers.24.mlp.gate_proj.lora_B.default.weight', 'base_model.model.base_model.model.base_model.model.base_model.model.base_model.model.base_model.model.model.layers.24.mlp.up_proj.lora_A.default.weight', 'base_model.model.base_model.model.base_model.model.base_model.model.base_model.model.base_model.model.model.layers.24.mlp.up_proj.lora_B.default.weight', 'base_model.model.base_model.model.base_model.model.base_model.model.base_model.model.base_model.model.model.layers.24.mlp.down_proj.lora_A.default.weight', 'base_model.model.base_model.model.base_model.model.base_model.model.base_model.model.base_model.model.model.layers.24.mlp.down_proj.lora_B.default.weight', 'base_model.model.base_model.model.base_model.model.base_model.model.base_model.model.base_model.model.model.layers.25.self_attn.q_proj.lora_A.default.weight', 'base_model.model.base_model.model.base_model.model.base_model.model.base_model.model.base_model.model.model.layers.25.self_attn.q_proj.lora_B.default.weight', 'base_model.model.base_model.model.base_model.model.base_model.model.base_model.model.base_model.model.model.layers.25.self_attn.k_proj.lora_A.default.weight', 'base_model.model.base_model.model.base_model.model.base_model.model.base_model.model.base_model.model.model.layers.25.self_attn.k_proj.lora_B.default.weight', 'base_model.model.base_model.model.base_model.model.base_model.model.base_model.model.base_model.model.model.layers.25.self_attn.v_proj.lora_A.default.weight', 'base_model.model.base_model.model.base_model.model.base_model.model.base_model.model.base_model.model.model.layers.25.self_attn.v_proj.lora_B.default.weight', 'base_model.model.base_model.model.base_model.model.base_model.model.base_model.model.base_model.model.model.layers.25.self_attn.o_proj.lora_A.default.weight', 'base_model.model.base_model.model.base_model.model.base_model.model.base_model.model.base_model.model.model.layers.25.self_attn.o_proj.lora_B.default.weight', 'base_model.model.base_model.model.base_model.model.base_model.model.base_model.model.base_model.model.model.layers.25.mlp.gate_proj.lora_A.default.weight', 'base_model.model.base_model.model.base_model.model.base_model.model.base_model.model.base_model.model.model.layers.25.mlp.gate_proj.lora_B.default.weight', 'base_model.model.base_model.model.base_model.model.base_model.model.base_model.model.base_model.model.model.layers.25.mlp.up_proj.lora_A.default.weight', 'base_model.model.base_model.model.base_model.model.base_model.model.base_model.model.base_model.model.model.layers.25.mlp.up_proj.lora_B.default.weight', 'base_model.model.base_model.model.base_model.model.base_model.model.base_model.model.base_model.model.model.layers.25.mlp.down_proj.lora_A.default.weight', 'base_model.model.base_model.model.base_model.model.base_model.model.base_model.model.base_model.model.model.layers.25.mlp.down_proj.lora_B.default.weight', 'base_model.model.base_model.model.base_model.model.base_model.model.base_model.model.base_model.model.model.layers.26.self_attn.q_proj.lora_A.default.weight', 'base_model.model.base_model.model.base_model.model.base_model.model.base_model.model.base_model.model.model.layers.26.self_attn.q_proj.lora_B.default.weight', 'base_model.model.base_model.model.base_model.model.base_model.model.base_model.model.base_model.model.model.layers.26.self_attn.k_proj.lora_A.default.weight', 'base_model.model.base_model.model.base_model.model.base_model.model.base_model.model.base_model.model.model.layers.26.self_attn.k_proj.lora_B.default.weight', 'base_model.model.base_model.model.base_model.model.base_model.model.base_model.model.base_model.model.model.layers.26.self_attn.v_proj.lora_A.default.weight', 'base_model.model.base_model.model.base_model.model.base_model.model.base_model.model.base_model.model.model.layers.26.self_attn.v_proj.lora_B.default.weight', 'base_model.model.base_model.model.base_model.model.base_model.model.base_model.model.base_model.model.model.layers.26.self_attn.o_proj.lora_A.default.weight', 'base_model.model.base_model.model.base_model.model.base_model.model.base_model.model.base_model.model.model.layers.26.self_attn.o_proj.lora_B.default.weight', 'base_model.model.base_model.model.base_model.model.base_model.model.base_model.model.base_model.model.model.layers.26.mlp.gate_proj.lora_A.default.weight', 'base_model.model.base_model.model.base_model.model.base_model.model.base_model.model.base_model.model.model.layers.26.mlp.gate_proj.lora_B.default.weight', 'base_model.model.base_model.model.base_model.model.base_model.model.base_model.model.base_model.model.model.layers.26.mlp.up_proj.lora_A.default.weight', 'base_model.model.base_model.model.base_model.model.base_model.model.base_model.model.base_model.model.model.layers.26.mlp.up_proj.lora_B.default.weight', 'base_model.model.base_model.model.base_model.model.base_model.model.base_model.model.base_model.model.model.layers.26.mlp.down_proj.lora_A.default.weight', 'base_model.model.base_model.model.base_model.model.base_model.model.base_model.model.base_model.model.model.layers.26.mlp.down_proj.lora_B.default.weight', 'base_model.model.base_model.model.base_model.model.base_model.model.base_model.model.base_model.model.model.layers.27.self_attn.q_proj.lora_A.default.weight', 'base_model.model.base_model.model.base_model.model.base_model.model.base_model.model.base_model.model.model.layers.27.self_attn.q_proj.lora_B.default.weight', 'base_model.model.base_model.model.base_model.model.base_model.model.base_model.model.base_model.model.model.layers.27.self_attn.k_proj.lora_A.default.weight', 'base_model.model.base_model.model.base_model.model.base_model.model.base_model.model.base_model.model.model.layers.27.self_attn.k_proj.lora_B.default.weight', 'base_model.model.base_model.model.base_model.model.base_model.model.base_model.model.base_model.model.model.layers.27.self_attn.v_proj.lora_A.default.weight', 'base_model.model.base_model.model.base_model.model.base_model.model.base_model.model.base_model.model.model.layers.27.self_attn.v_proj.lora_B.default.weight', 'base_model.model.base_model.model.base_model.model.base_model.model.base_model.model.base_model.model.model.layers.27.self_attn.o_proj.lora_A.default.weight', 'base_model.model.base_model.model.base_model.model.base_model.model.base_model.model.base_model.model.model.layers.27.self_attn.o_proj.lora_B.default.weight', 'base_model.model.base_model.model.base_model.model.base_model.model.base_model.model.base_model.model.model.layers.27.mlp.gate_proj.lora_A.default.weight', 'base_model.model.base_model.model.base_model.model.base_model.model.base_model.model.base_model.model.model.layers.27.mlp.gate_proj.lora_B.default.weight', 'base_model.model.base_model.model.base_model.model.base_model.model.base_model.model.base_model.model.model.layers.27.mlp.up_proj.lora_A.default.weight', 'base_model.model.base_model.model.base_model.model.base_model.model.base_model.model.base_model.model.model.layers.27.mlp.up_proj.lora_B.default.weight', 'base_model.model.base_model.model.base_model.model.base_model.model.base_model.model.base_model.model.model.layers.27.mlp.down_proj.lora_A.default.weight', 'base_model.model.base_model.model.base_model.model.base_model.model.base_model.model.base_model.model.model.layers.27.mlp.down_proj.lora_B.default.weight']\n",
      "  warnings.warn(f\"Found missing adapter keys while loading the checkpoint: {missing_keys}\")\n"
     ]
    },
    {
     "data": {
      "application/vnd.jupyter.widget-view+json": {
       "model_id": "72f5ee8e0a8441d69cfc079b0cdf3618",
       "version_major": 2,
       "version_minor": 0
      },
      "text/plain": [
       "Filter:   0%|          | 0/7498 [00:00<?, ? examples/s]"
      ]
     },
     "metadata": {},
     "output_type": "display_data"
    },
    {
     "data": {
      "application/vnd.jupyter.widget-view+json": {
       "model_id": "2662d36c242547c1b3ae5a4d84eb4492",
       "version_major": 2,
       "version_minor": 0
      },
      "text/plain": [
       "Filter:   0%|          | 0/5000 [00:00<?, ? examples/s]"
      ]
     },
     "metadata": {},
     "output_type": "display_data"
    },
    {
     "name": "stdout",
     "output_type": "stream",
     "text": [
      "Number of training samples: 7498\n",
      "Number of test samples: 5000\n"
     ]
    },
    {
     "data": {
      "application/vnd.jupyter.widget-view+json": {
       "model_id": "6b22b1809337459a9b672bcd2fab3645",
       "version_major": 2,
       "version_minor": 0
      },
      "text/plain": [
       "Map:   0%|          | 0/7498 [00:00<?, ? examples/s]"
      ]
     },
     "metadata": {},
     "output_type": "display_data"
    },
    {
     "data": {
      "application/vnd.jupyter.widget-view+json": {
       "model_id": "27091ab8e2334b8bbe076247b27e8ecb",
       "version_major": 2,
       "version_minor": 0
      },
      "text/plain": [
       "Map:   0%|          | 0/5000 [00:00<?, ? examples/s]"
      ]
     },
     "metadata": {},
     "output_type": "display_data"
    },
    {
     "name": "stderr",
     "output_type": "stream",
     "text": [
      "/usr/local/lib/python3.10/dist-packages/transformers/training_args.py:1575: FutureWarning: `evaluation_strategy` is deprecated and will be removed in version 4.46 of 🤗 Transformers. Use `eval_strategy` instead\n",
      "  warnings.warn(\n",
      "/usr/local/lib/python3.10/dist-packages/transformers/training_args.py:1575: FutureWarning: `evaluation_strategy` is deprecated and will be removed in version 4.46 of 🤗 Transformers. Use `eval_strategy` instead\n",
      "  warnings.warn(\n"
     ]
    },
    {
     "name": "stderr",
     "output_type": "stream",
     "text": [
      "/usr/local/lib/python3.10/dist-packages/accelerate/accelerator.py:494: FutureWarning: `torch.cuda.amp.GradScaler(args...)` is deprecated. Please use `torch.amp.GradScaler('cuda', args...)` instead.\n",
      "  self.scaler = torch.cuda.amp.GradScaler(**kwargs)\n"
     ]
    },
    {
     "data": {
      "text/html": [
       "\n",
       "    <div>\n",
       "      \n",
       "      <progress value='2000' max='9375' style='width:300px; height:20px; vertical-align: middle;'></progress>\n",
       "      [2000/9375 9:17:40 < 34:18:30, 0.06 it/s, Epoch 1/5]\n",
       "    </div>\n",
       "    <table border=\"1\" class=\"dataframe\">\n",
       "  <thead>\n",
       " <tr style=\"text-align: left;\">\n",
       "      <th>Step</th>\n",
       "      <th>Training Loss</th>\n",
       "      <th>Validation Loss</th>\n",
       "    </tr>\n",
       "  </thead>\n",
       "  <tbody>\n",
       "    <tr>\n",
       "      <td>100</td>\n",
       "      <td>1.341700</td>\n",
       "      <td>1.250666</td>\n",
       "    </tr>\n",
       "    <tr>\n",
       "      <td>200</td>\n",
       "      <td>0.847200</td>\n",
       "      <td>0.830904</td>\n",
       "    </tr>\n",
       "    <tr>\n",
       "      <td>300</td>\n",
       "      <td>0.770000</td>\n",
       "      <td>0.794697</td>\n",
       "    </tr>\n",
       "    <tr>\n",
       "      <td>400</td>\n",
       "      <td>0.673000</td>\n",
       "      <td>0.713184</td>\n",
       "    </tr>\n",
       "    <tr>\n",
       "      <td>500</td>\n",
       "      <td>0.685200</td>\n",
       "      <td>0.704654</td>\n",
       "    </tr>\n",
       "    <tr>\n",
       "      <td>600</td>\n",
       "      <td>0.644900</td>\n",
       "      <td>0.698194</td>\n",
       "    </tr>\n",
       "    <tr>\n",
       "      <td>700</td>\n",
       "      <td>0.720800</td>\n",
       "      <td>0.692276</td>\n",
       "    </tr>\n",
       "    <tr>\n",
       "      <td>800</td>\n",
       "      <td>0.662100</td>\n",
       "      <td>0.686479</td>\n",
       "    </tr>\n",
       "    <tr>\n",
       "      <td>900</td>\n",
       "      <td>0.682400</td>\n",
       "      <td>0.683785</td>\n",
       "    </tr>\n",
       "    <tr>\n",
       "      <td>1000</td>\n",
       "      <td>0.675100</td>\n",
       "      <td>0.679323</td>\n",
       "    </tr>\n",
       "    <tr>\n",
       "      <td>1100</td>\n",
       "      <td>0.634500</td>\n",
       "      <td>0.674044</td>\n",
       "    </tr>\n",
       "    <tr>\n",
       "      <td>1200</td>\n",
       "      <td>0.569200</td>\n",
       "      <td>0.669643</td>\n",
       "    </tr>\n",
       "    <tr>\n",
       "      <td>1300</td>\n",
       "      <td>0.689500</td>\n",
       "      <td>0.666889</td>\n",
       "    </tr>\n",
       "    <tr>\n",
       "      <td>1400</td>\n",
       "      <td>0.634700</td>\n",
       "      <td>0.663801</td>\n",
       "    </tr>\n",
       "    <tr>\n",
       "      <td>1500</td>\n",
       "      <td>0.662600</td>\n",
       "      <td>0.659983</td>\n",
       "    </tr>\n",
       "    <tr>\n",
       "      <td>1600</td>\n",
       "      <td>0.648400</td>\n",
       "      <td>0.657244</td>\n",
       "    </tr>\n",
       "    <tr>\n",
       "      <td>1700</td>\n",
       "      <td>0.633000</td>\n",
       "      <td>0.655436</td>\n",
       "    </tr>\n",
       "    <tr>\n",
       "      <td>1800</td>\n",
       "      <td>0.669700</td>\n",
       "      <td>0.653109</td>\n",
       "    </tr>\n",
       "    <tr>\n",
       "      <td>1900</td>\n",
       "      <td>0.562400</td>\n",
       "      <td>0.654686</td>\n",
       "    </tr>\n",
       "    <tr>\n",
       "      <td>2000</td>\n",
       "      <td>0.611300</td>\n",
       "      <td>0.656091</td>\n",
       "    </tr>\n",
       "  </tbody>\n",
       "</table><p>"
      ],
      "text/plain": [
       "<IPython.core.display.HTML object>"
      ]
     },
     "metadata": {},
     "output_type": "display_data"
    },
    {
     "name": "stderr",
     "output_type": "stream",
     "text": [
      "/usr/local/lib/python3.10/dist-packages/transformers/utils/hub.py:894: FutureWarning: The `use_auth_token` argument is deprecated and will be removed in v5 of Transformers. Please use `token` instead.\n",
      "  warnings.warn(\n"
     ]
    },
    {
     "data": {
      "application/vnd.jupyter.widget-view+json": {
       "model_id": "67dd27a0e23243c2bd2d136bfe5e8992",
       "version_major": 2,
       "version_minor": 0
      },
      "text/plain": [
       "adapter_model.safetensors:   0%|          | 0.00/195M [00:00<?, ?B/s]"
      ]
     },
     "metadata": {},
     "output_type": "display_data"
    },
    {
     "data": {
      "application/vnd.jupyter.widget-view+json": {
       "model_id": "e0042a2ed4d04864a58448ef27406a4e",
       "version_major": 2,
       "version_minor": 0
      },
      "text/plain": [
       "README.md:   0%|          | 0.00/5.17k [00:00<?, ?B/s]"
      ]
     },
     "metadata": {},
     "output_type": "display_data"
    },
    {
     "data": {
      "application/vnd.jupyter.widget-view+json": {
       "model_id": "2c6d17cb42da4fd3b16efd9ad21812f2",
       "version_major": 2,
       "version_minor": 0
      },
      "text/plain": [
       "tokenizer.json:   0%|          | 0.00/17.2M [00:00<?, ?B/s]"
      ]
     },
     "metadata": {},
     "output_type": "display_data"
    },
    {
     "data": {
      "text/html": [
       "\n",
       "    <div>\n",
       "      \n",
       "      <progress value='625' max='625' style='width:300px; height:20px; vertical-align: middle;'></progress>\n",
       "      [625/625 23:38]\n",
       "    </div>\n",
       "    "
      ],
      "text/plain": [
       "<IPython.core.display.HTML object>"
      ]
     },
     "metadata": {},
     "output_type": "display_data"
    },
    {
     "name": "stdout",
     "output_type": "stream",
     "text": [
      "Overall evaluation results: {'eval_loss': 0.6531092524528503, 'eval_runtime': 1420.9135, 'eval_samples_per_second': 3.519, 'eval_steps_per_second': 0.44, 'epoch': 1.0666666666666667}\n",
      "[{'loss': 2.1785, 'grad_norm': 6.341381072998047, 'learning_rate': 5.33049040511727e-07, 'epoch': 0.005333333333333333, 'step': 10}, {'loss': 1.9745, 'grad_norm': 4.589507579803467, 'learning_rate': 1.066098081023454e-06, 'epoch': 0.010666666666666666, 'step': 20}, {'loss': 2.1618, 'grad_norm': 2.670720338821411, 'learning_rate': 1.5991471215351815e-06, 'epoch': 0.016, 'step': 30}, {'loss': 1.9651, 'grad_norm': 3.899791717529297, 'learning_rate': 2.132196162046908e-06, 'epoch': 0.021333333333333333, 'step': 40}, {'loss': 1.7468, 'grad_norm': 1.5991272926330566, 'learning_rate': 2.6652452025586354e-06, 'epoch': 0.02666666666666667, 'step': 50}, {'loss': 1.6791, 'grad_norm': 1.8908759355545044, 'learning_rate': 3.198294243070363e-06, 'epoch': 0.032, 'step': 60}, {'loss': 1.719, 'grad_norm': 2.163475275039673, 'learning_rate': 3.7313432835820893e-06, 'epoch': 0.037333333333333336, 'step': 70}, {'loss': 1.5554, 'grad_norm': 1.124649167060852, 'learning_rate': 4.264392324093816e-06, 'epoch': 0.042666666666666665, 'step': 80}, {'loss': 1.44, 'grad_norm': 2.051168918609619, 'learning_rate': 4.797441364605544e-06, 'epoch': 0.048, 'step': 90}, {'loss': 1.3417, 'grad_norm': 1.3098105192184448, 'learning_rate': 5.330490405117271e-06, 'epoch': 0.05333333333333334, 'step': 100}, {'eval_loss': 1.2506656646728516, 'eval_runtime': 1421.394, 'eval_samples_per_second': 3.518, 'eval_steps_per_second': 0.44, 'epoch': 0.05333333333333334, 'step': 100}, {'loss': 1.1543, 'grad_norm': 1.2740558385849, 'learning_rate': 5.863539445628998e-06, 'epoch': 0.058666666666666666, 'step': 110}, {'loss': 1.0783, 'grad_norm': 1.035589337348938, 'learning_rate': 6.396588486140726e-06, 'epoch': 0.064, 'step': 120}, {'loss': 0.8993, 'grad_norm': 1.1499040126800537, 'learning_rate': 6.929637526652452e-06, 'epoch': 0.06933333333333333, 'step': 130}, {'loss': 0.8588, 'grad_norm': 1.3489900827407837, 'learning_rate': 7.4626865671641785e-06, 'epoch': 0.07466666666666667, 'step': 140}, {'loss': 0.8109, 'grad_norm': 0.5880588293075562, 'learning_rate': 7.995735607675907e-06, 'epoch': 0.08, 'step': 150}, {'loss': 0.8056, 'grad_norm': 0.9230265021324158, 'learning_rate': 8.528784648187633e-06, 'epoch': 0.08533333333333333, 'step': 160}, {'loss': 0.9009, 'grad_norm': 0.7840955853462219, 'learning_rate': 9.06183368869936e-06, 'epoch': 0.09066666666666667, 'step': 170}, {'loss': 0.8384, 'grad_norm': 0.9603079557418823, 'learning_rate': 9.594882729211089e-06, 'epoch': 0.096, 'step': 180}, {'loss': 0.7999, 'grad_norm': 0.7358764410018921, 'learning_rate': 1.0127931769722815e-05, 'epoch': 0.10133333333333333, 'step': 190}, {'loss': 0.8472, 'grad_norm': 0.8246574401855469, 'learning_rate': 1.0660980810234541e-05, 'epoch': 0.10666666666666667, 'step': 200}, {'eval_loss': 0.8309041261672974, 'eval_runtime': 1421.0137, 'eval_samples_per_second': 3.519, 'eval_steps_per_second': 0.44, 'epoch': 0.10666666666666667, 'step': 200}, {'loss': 0.8102, 'grad_norm': 0.8497103452682495, 'learning_rate': 1.119402985074627e-05, 'epoch': 0.112, 'step': 210}, {'loss': 0.8712, 'grad_norm': 0.7803877592086792, 'learning_rate': 1.1727078891257996e-05, 'epoch': 0.11733333333333333, 'step': 220}, {'loss': 0.8445, 'grad_norm': 0.7266935706138611, 'learning_rate': 1.2260127931769722e-05, 'epoch': 0.12266666666666666, 'step': 230}, {'loss': 0.8316, 'grad_norm': 0.6184091567993164, 'learning_rate': 1.2793176972281452e-05, 'epoch': 0.128, 'step': 240}, {'loss': 0.7528, 'grad_norm': 0.7298375368118286, 'learning_rate': 1.3326226012793178e-05, 'epoch': 0.13333333333333333, 'step': 250}, {'loss': 0.7371, 'grad_norm': 0.6695380806922913, 'learning_rate': 1.3859275053304904e-05, 'epoch': 0.13866666666666666, 'step': 260}, {'loss': 0.7898, 'grad_norm': 0.7014281153678894, 'learning_rate': 1.439232409381663e-05, 'epoch': 0.144, 'step': 270}, {'loss': 0.765, 'grad_norm': 0.6979265213012695, 'learning_rate': 1.4925373134328357e-05, 'epoch': 0.14933333333333335, 'step': 280}, {'loss': 0.7726, 'grad_norm': 0.7928499579429626, 'learning_rate': 1.5458422174840087e-05, 'epoch': 0.15466666666666667, 'step': 290}, {'loss': 0.77, 'grad_norm': 0.9864410758018494, 'learning_rate': 1.5991471215351813e-05, 'epoch': 0.16, 'step': 300}, {'eval_loss': 0.7946966290473938, 'eval_runtime': 1420.1635, 'eval_samples_per_second': 3.521, 'eval_steps_per_second': 0.44, 'epoch': 0.16, 'step': 300}, {'loss': 0.9007, 'grad_norm': 0.7754987478256226, 'learning_rate': 1.652452025586354e-05, 'epoch': 0.16533333333333333, 'step': 310}, {'loss': 0.7825, 'grad_norm': 0.8678972721099854, 'learning_rate': 1.7057569296375266e-05, 'epoch': 0.17066666666666666, 'step': 320}, {'loss': 0.7241, 'grad_norm': 0.8482921123504639, 'learning_rate': 1.7590618336886995e-05, 'epoch': 0.176, 'step': 330}, {'loss': 0.7126, 'grad_norm': 0.8717901110649109, 'learning_rate': 1.812366737739872e-05, 'epoch': 0.18133333333333335, 'step': 340}, {'loss': 0.7513, 'grad_norm': 1.1172741651535034, 'learning_rate': 1.865671641791045e-05, 'epoch': 0.18666666666666668, 'step': 350}, {'loss': 0.7028, 'grad_norm': 0.8283396363258362, 'learning_rate': 1.9189765458422178e-05, 'epoch': 0.192, 'step': 360}, {'loss': 0.7251, 'grad_norm': 0.9693396091461182, 'learning_rate': 1.9722814498933904e-05, 'epoch': 0.19733333333333333, 'step': 370}, {'loss': 0.6402, 'grad_norm': 0.8751866221427917, 'learning_rate': 2.025586353944563e-05, 'epoch': 0.20266666666666666, 'step': 380}, {'loss': 0.7111, 'grad_norm': 0.76003497838974, 'learning_rate': 2.0788912579957357e-05, 'epoch': 0.208, 'step': 390}, {'loss': 0.673, 'grad_norm': 0.7659635543823242, 'learning_rate': 2.1321961620469083e-05, 'epoch': 0.21333333333333335, 'step': 400}, {'eval_loss': 0.7131835222244263, 'eval_runtime': 1420.8437, 'eval_samples_per_second': 3.519, 'eval_steps_per_second': 0.44, 'epoch': 0.21333333333333335, 'step': 400}, {'loss': 0.6867, 'grad_norm': 1.0613362789154053, 'learning_rate': 2.1855010660980813e-05, 'epoch': 0.21866666666666668, 'step': 410}, {'loss': 0.6549, 'grad_norm': 0.668150007724762, 'learning_rate': 2.238805970149254e-05, 'epoch': 0.224, 'step': 420}, {'loss': 0.7097, 'grad_norm': 0.9045745134353638, 'learning_rate': 2.2921108742004265e-05, 'epoch': 0.22933333333333333, 'step': 430}, {'loss': 0.6922, 'grad_norm': 0.9104951620101929, 'learning_rate': 2.345415778251599e-05, 'epoch': 0.23466666666666666, 'step': 440}, {'loss': 0.8153, 'grad_norm': 0.7999277114868164, 'learning_rate': 2.3987206823027718e-05, 'epoch': 0.24, 'step': 450}, {'loss': 0.6433, 'grad_norm': 0.6669015288352966, 'learning_rate': 2.4520255863539444e-05, 'epoch': 0.24533333333333332, 'step': 460}, {'loss': 0.6827, 'grad_norm': 0.7078523635864258, 'learning_rate': 2.5053304904051174e-05, 'epoch': 0.25066666666666665, 'step': 470}, {'loss': 0.7374, 'grad_norm': 0.6913762092590332, 'learning_rate': 2.5586353944562904e-05, 'epoch': 0.256, 'step': 480}, {'loss': 0.772, 'grad_norm': 0.7793570160865784, 'learning_rate': 2.6119402985074626e-05, 'epoch': 0.2613333333333333, 'step': 490}, {'loss': 0.6852, 'grad_norm': 0.7089758515357971, 'learning_rate': 2.6652452025586356e-05, 'epoch': 0.26666666666666666, 'step': 500}, {'eval_loss': 0.704653799533844, 'eval_runtime': 1421.4903, 'eval_samples_per_second': 3.517, 'eval_steps_per_second': 0.44, 'epoch': 0.26666666666666666, 'step': 500}, {'loss': 0.5921, 'grad_norm': 0.9587572813034058, 'learning_rate': 2.7185501066098086e-05, 'epoch': 0.272, 'step': 510}, {'loss': 0.6514, 'grad_norm': 0.6505309343338013, 'learning_rate': 2.771855010660981e-05, 'epoch': 0.2773333333333333, 'step': 520}, {'loss': 0.6215, 'grad_norm': 0.6490871906280518, 'learning_rate': 2.825159914712154e-05, 'epoch': 0.2826666666666667, 'step': 530}, {'loss': 0.6943, 'grad_norm': 0.9282576441764832, 'learning_rate': 2.878464818763326e-05, 'epoch': 0.288, 'step': 540}, {'loss': 0.6607, 'grad_norm': 0.7621634602546692, 'learning_rate': 2.931769722814499e-05, 'epoch': 0.29333333333333333, 'step': 550}, {'loss': 0.7158, 'grad_norm': 0.9024742841720581, 'learning_rate': 2.9850746268656714e-05, 'epoch': 0.2986666666666667, 'step': 560}, {'loss': 0.6974, 'grad_norm': 0.6872467398643494, 'learning_rate': 3.0383795309168444e-05, 'epoch': 0.304, 'step': 570}, {'loss': 0.7137, 'grad_norm': 0.7565039992332458, 'learning_rate': 3.0916844349680173e-05, 'epoch': 0.30933333333333335, 'step': 580}, {'loss': 0.6718, 'grad_norm': 0.7915547490119934, 'learning_rate': 3.14498933901919e-05, 'epoch': 0.31466666666666665, 'step': 590}, {'loss': 0.6449, 'grad_norm': 0.9388744235038757, 'learning_rate': 3.1982942430703626e-05, 'epoch': 0.32, 'step': 600}, {'eval_loss': 0.6981940269470215, 'eval_runtime': 1421.8548, 'eval_samples_per_second': 3.517, 'eval_steps_per_second': 0.44, 'epoch': 0.32, 'step': 600}, {'loss': 0.6106, 'grad_norm': 0.7280147075653076, 'learning_rate': 3.251599147121535e-05, 'epoch': 0.3253333333333333, 'step': 610}, {'loss': 0.6299, 'grad_norm': 0.6715965867042542, 'learning_rate': 3.304904051172708e-05, 'epoch': 0.33066666666666666, 'step': 620}, {'loss': 0.6973, 'grad_norm': 0.8301340341567993, 'learning_rate': 3.358208955223881e-05, 'epoch': 0.336, 'step': 630}, {'loss': 0.7176, 'grad_norm': 0.870252788066864, 'learning_rate': 3.411513859275053e-05, 'epoch': 0.3413333333333333, 'step': 640}, {'loss': 0.5953, 'grad_norm': 0.7035398483276367, 'learning_rate': 3.4648187633262264e-05, 'epoch': 0.3466666666666667, 'step': 650}, {'loss': 0.655, 'grad_norm': 0.6583952903747559, 'learning_rate': 3.518123667377399e-05, 'epoch': 0.352, 'step': 660}, {'loss': 0.6672, 'grad_norm': 0.6996691823005676, 'learning_rate': 3.571428571428572e-05, 'epoch': 0.35733333333333334, 'step': 670}, {'loss': 0.6177, 'grad_norm': 1.0117065906524658, 'learning_rate': 3.624733475479744e-05, 'epoch': 0.3626666666666667, 'step': 680}, {'loss': 0.6416, 'grad_norm': 0.8140215277671814, 'learning_rate': 3.678038379530917e-05, 'epoch': 0.368, 'step': 690}, {'loss': 0.7208, 'grad_norm': 0.8148485422134399, 'learning_rate': 3.73134328358209e-05, 'epoch': 0.37333333333333335, 'step': 700}, {'eval_loss': 0.6922755837440491, 'eval_runtime': 1419.5951, 'eval_samples_per_second': 3.522, 'eval_steps_per_second': 0.44, 'epoch': 0.37333333333333335, 'step': 700}, {'loss': 0.6266, 'grad_norm': 0.704843282699585, 'learning_rate': 3.784648187633262e-05, 'epoch': 0.37866666666666665, 'step': 710}, {'loss': 0.7016, 'grad_norm': 0.7052006721496582, 'learning_rate': 3.8379530916844355e-05, 'epoch': 0.384, 'step': 720}, {'loss': 0.6164, 'grad_norm': 0.6492706537246704, 'learning_rate': 3.8912579957356075e-05, 'epoch': 0.3893333333333333, 'step': 730}, {'loss': 0.621, 'grad_norm': 0.5964676737785339, 'learning_rate': 3.944562899786781e-05, 'epoch': 0.39466666666666667, 'step': 740}, {'loss': 0.6484, 'grad_norm': 0.8141298890113831, 'learning_rate': 3.997867803837953e-05, 'epoch': 0.4, 'step': 750}, {'loss': 0.6354, 'grad_norm': 0.8886556029319763, 'learning_rate': 4.051172707889126e-05, 'epoch': 0.4053333333333333, 'step': 760}, {'loss': 0.7294, 'grad_norm': 0.7791540026664734, 'learning_rate': 4.104477611940299e-05, 'epoch': 0.4106666666666667, 'step': 770}, {'loss': 0.6825, 'grad_norm': 0.6968883275985718, 'learning_rate': 4.157782515991471e-05, 'epoch': 0.416, 'step': 780}, {'loss': 0.6156, 'grad_norm': 0.6159361004829407, 'learning_rate': 4.211087420042644e-05, 'epoch': 0.42133333333333334, 'step': 790}, {'loss': 0.6621, 'grad_norm': 0.7719972729682922, 'learning_rate': 4.2643923240938166e-05, 'epoch': 0.4266666666666667, 'step': 800}, {'eval_loss': 0.686479389667511, 'eval_runtime': 1421.9644, 'eval_samples_per_second': 3.516, 'eval_steps_per_second': 0.44, 'epoch': 0.4266666666666667, 'step': 800}, {'loss': 0.7106, 'grad_norm': 0.7615668177604675, 'learning_rate': 4.31769722814499e-05, 'epoch': 0.432, 'step': 810}, {'loss': 0.7381, 'grad_norm': 0.9251880645751953, 'learning_rate': 4.3710021321961625e-05, 'epoch': 0.43733333333333335, 'step': 820}, {'loss': 0.6518, 'grad_norm': 0.6257683634757996, 'learning_rate': 4.424307036247335e-05, 'epoch': 0.44266666666666665, 'step': 830}, {'loss': 0.631, 'grad_norm': 0.6385398507118225, 'learning_rate': 4.477611940298508e-05, 'epoch': 0.448, 'step': 840}, {'loss': 0.6499, 'grad_norm': 0.7487204074859619, 'learning_rate': 4.5309168443496804e-05, 'epoch': 0.4533333333333333, 'step': 850}, {'loss': 0.7052, 'grad_norm': 0.7338942885398865, 'learning_rate': 4.584221748400853e-05, 'epoch': 0.45866666666666667, 'step': 860}, {'loss': 0.6477, 'grad_norm': 0.7703148722648621, 'learning_rate': 4.637526652452026e-05, 'epoch': 0.464, 'step': 870}, {'loss': 0.7511, 'grad_norm': 0.6509377360343933, 'learning_rate': 4.690831556503198e-05, 'epoch': 0.4693333333333333, 'step': 880}, {'loss': 0.657, 'grad_norm': 0.658017635345459, 'learning_rate': 4.7441364605543716e-05, 'epoch': 0.4746666666666667, 'step': 890}, {'loss': 0.6824, 'grad_norm': 0.9051072597503662, 'learning_rate': 4.7974413646055436e-05, 'epoch': 0.48, 'step': 900}, {'eval_loss': 0.6837846636772156, 'eval_runtime': 1422.2648, 'eval_samples_per_second': 3.516, 'eval_steps_per_second': 0.439, 'epoch': 0.48, 'step': 900}, {'loss': 0.7207, 'grad_norm': 0.8876903653144836, 'learning_rate': 4.850746268656717e-05, 'epoch': 0.48533333333333334, 'step': 910}, {'loss': 0.6598, 'grad_norm': 0.7429937124252319, 'learning_rate': 4.904051172707889e-05, 'epoch': 0.49066666666666664, 'step': 920}, {'loss': 0.6364, 'grad_norm': 0.5835382342338562, 'learning_rate': 4.957356076759062e-05, 'epoch': 0.496, 'step': 930}, {'loss': 0.639, 'grad_norm': 0.687376081943512, 'learning_rate': 4.998814744577457e-05, 'epoch': 0.5013333333333333, 'step': 940}, {'loss': 0.6348, 'grad_norm': 0.6838256120681763, 'learning_rate': 4.992888467464739e-05, 'epoch': 0.5066666666666667, 'step': 950}, {'loss': 0.664, 'grad_norm': 0.5625413060188293, 'learning_rate': 4.986962190352021e-05, 'epoch': 0.512, 'step': 960}, {'loss': 0.6201, 'grad_norm': 0.6227666735649109, 'learning_rate': 4.981035913239303e-05, 'epoch': 0.5173333333333333, 'step': 970}, {'loss': 0.7066, 'grad_norm': 0.7158143520355225, 'learning_rate': 4.9751096361265855e-05, 'epoch': 0.5226666666666666, 'step': 980}, {'loss': 0.6647, 'grad_norm': 0.669121503829956, 'learning_rate': 4.969183359013868e-05, 'epoch': 0.528, 'step': 990}, {'loss': 0.6751, 'grad_norm': 0.7400031089782715, 'learning_rate': 4.96325708190115e-05, 'epoch': 0.5333333333333333, 'step': 1000}, {'eval_loss': 0.6793229579925537, 'eval_runtime': 1421.0584, 'eval_samples_per_second': 3.519, 'eval_steps_per_second': 0.44, 'epoch': 0.5333333333333333, 'step': 1000}, {'loss': 0.674, 'grad_norm': 0.7850545048713684, 'learning_rate': 4.957330804788432e-05, 'epoch': 0.5386666666666666, 'step': 1010}, {'loss': 0.5838, 'grad_norm': 0.6467447280883789, 'learning_rate': 4.951404527675714e-05, 'epoch': 0.544, 'step': 1020}, {'loss': 0.6384, 'grad_norm': 0.5489017367362976, 'learning_rate': 4.9454782505629965e-05, 'epoch': 0.5493333333333333, 'step': 1030}, {'loss': 0.6769, 'grad_norm': 0.5531742572784424, 'learning_rate': 4.939551973450279e-05, 'epoch': 0.5546666666666666, 'step': 1040}, {'loss': 0.6455, 'grad_norm': 0.6939987540245056, 'learning_rate': 4.933625696337561e-05, 'epoch': 0.56, 'step': 1050}, {'loss': 0.7391, 'grad_norm': 0.6938762068748474, 'learning_rate': 4.927699419224843e-05, 'epoch': 0.5653333333333334, 'step': 1060}, {'loss': 0.7166, 'grad_norm': 0.5995277166366577, 'learning_rate': 4.9217731421121254e-05, 'epoch': 0.5706666666666667, 'step': 1070}, {'loss': 0.6954, 'grad_norm': 0.7032454013824463, 'learning_rate': 4.9158468649994076e-05, 'epoch': 0.576, 'step': 1080}, {'loss': 0.6708, 'grad_norm': 0.79462730884552, 'learning_rate': 4.90992058788669e-05, 'epoch': 0.5813333333333334, 'step': 1090}, {'loss': 0.6345, 'grad_norm': 0.5559273362159729, 'learning_rate': 4.903994310773972e-05, 'epoch': 0.5866666666666667, 'step': 1100}, {'eval_loss': 0.6740443706512451, 'eval_runtime': 1421.329, 'eval_samples_per_second': 3.518, 'eval_steps_per_second': 0.44, 'epoch': 0.5866666666666667, 'step': 1100}, {'loss': 0.7258, 'grad_norm': 0.7768835425376892, 'learning_rate': 4.898068033661254e-05, 'epoch': 0.592, 'step': 1110}, {'loss': 0.6768, 'grad_norm': 0.6485742330551147, 'learning_rate': 4.8921417565485364e-05, 'epoch': 0.5973333333333334, 'step': 1120}, {'loss': 0.6711, 'grad_norm': 0.6457324028015137, 'learning_rate': 4.8862154794358186e-05, 'epoch': 0.6026666666666667, 'step': 1130}, {'loss': 0.6001, 'grad_norm': 0.6123640537261963, 'learning_rate': 4.880289202323101e-05, 'epoch': 0.608, 'step': 1140}, {'loss': 0.6595, 'grad_norm': 0.7093691229820251, 'learning_rate': 4.874362925210383e-05, 'epoch': 0.6133333333333333, 'step': 1150}, {'loss': 0.7059, 'grad_norm': 0.6511327028274536, 'learning_rate': 4.868436648097665e-05, 'epoch': 0.6186666666666667, 'step': 1160}, {'loss': 0.7241, 'grad_norm': 0.6723052859306335, 'learning_rate': 4.8625103709849474e-05, 'epoch': 0.624, 'step': 1170}, {'loss': 0.6771, 'grad_norm': 1.7801592350006104, 'learning_rate': 4.8565840938722296e-05, 'epoch': 0.6293333333333333, 'step': 1180}, {'loss': 0.5827, 'grad_norm': 0.5613066554069519, 'learning_rate': 4.850657816759512e-05, 'epoch': 0.6346666666666667, 'step': 1190}, {'loss': 0.5692, 'grad_norm': 0.6967629194259644, 'learning_rate': 4.844731539646794e-05, 'epoch': 0.64, 'step': 1200}, {'eval_loss': 0.6696432828903198, 'eval_runtime': 1420.2524, 'eval_samples_per_second': 3.521, 'eval_steps_per_second': 0.44, 'epoch': 0.64, 'step': 1200}, {'loss': 0.6375, 'grad_norm': 0.6181725263595581, 'learning_rate': 4.838805262534076e-05, 'epoch': 0.6453333333333333, 'step': 1210}, {'loss': 0.5965, 'grad_norm': 0.7515531778335571, 'learning_rate': 4.8328789854213585e-05, 'epoch': 0.6506666666666666, 'step': 1220}, {'loss': 0.7126, 'grad_norm': 0.7565043568611145, 'learning_rate': 4.826952708308641e-05, 'epoch': 0.656, 'step': 1230}, {'loss': 0.6568, 'grad_norm': 0.7009811997413635, 'learning_rate': 4.821026431195923e-05, 'epoch': 0.6613333333333333, 'step': 1240}, {'loss': 0.5946, 'grad_norm': 0.6592055559158325, 'learning_rate': 4.815100154083205e-05, 'epoch': 0.6666666666666666, 'step': 1250}, {'loss': 0.6219, 'grad_norm': 0.9204715490341187, 'learning_rate': 4.809173876970487e-05, 'epoch': 0.672, 'step': 1260}, {'loss': 0.6351, 'grad_norm': 0.5217751264572144, 'learning_rate': 4.8032475998577695e-05, 'epoch': 0.6773333333333333, 'step': 1270}, {'loss': 0.6631, 'grad_norm': 0.5496330261230469, 'learning_rate': 4.797321322745052e-05, 'epoch': 0.6826666666666666, 'step': 1280}, {'loss': 0.612, 'grad_norm': 0.5813988447189331, 'learning_rate': 4.791395045632334e-05, 'epoch': 0.688, 'step': 1290}, {'loss': 0.6895, 'grad_norm': 0.7714577317237854, 'learning_rate': 4.785468768519616e-05, 'epoch': 0.6933333333333334, 'step': 1300}, {'eval_loss': 0.6668890118598938, 'eval_runtime': 1420.6317, 'eval_samples_per_second': 3.52, 'eval_steps_per_second': 0.44, 'epoch': 0.6933333333333334, 'step': 1300}, {'loss': 0.6727, 'grad_norm': 0.5800969004631042, 'learning_rate': 4.779542491406899e-05, 'epoch': 0.6986666666666667, 'step': 1310}, {'loss': 0.65, 'grad_norm': 0.48100122809410095, 'learning_rate': 4.7736162142941805e-05, 'epoch': 0.704, 'step': 1320}, {'loss': 0.6381, 'grad_norm': 0.5728848576545715, 'learning_rate': 4.767689937181463e-05, 'epoch': 0.7093333333333334, 'step': 1330}, {'loss': 0.6358, 'grad_norm': 0.9270927906036377, 'learning_rate': 4.761763660068745e-05, 'epoch': 0.7146666666666667, 'step': 1340}, {'loss': 0.632, 'grad_norm': 0.6815242171287537, 'learning_rate': 4.755837382956027e-05, 'epoch': 0.72, 'step': 1350}, {'loss': 0.6772, 'grad_norm': 0.6789644956588745, 'learning_rate': 4.7499111058433094e-05, 'epoch': 0.7253333333333334, 'step': 1360}, {'loss': 0.6216, 'grad_norm': 0.5493934154510498, 'learning_rate': 4.7439848287305916e-05, 'epoch': 0.7306666666666667, 'step': 1370}, {'loss': 0.6486, 'grad_norm': 0.5588302612304688, 'learning_rate': 4.738058551617874e-05, 'epoch': 0.736, 'step': 1380}, {'loss': 0.6052, 'grad_norm': 0.6505735516548157, 'learning_rate': 4.732132274505156e-05, 'epoch': 0.7413333333333333, 'step': 1390}, {'loss': 0.6347, 'grad_norm': 0.6796934604644775, 'learning_rate': 4.726205997392438e-05, 'epoch': 0.7466666666666667, 'step': 1400}, {'eval_loss': 0.6638008952140808, 'eval_runtime': 1421.7287, 'eval_samples_per_second': 3.517, 'eval_steps_per_second': 0.44, 'epoch': 0.7466666666666667, 'step': 1400}, {'loss': 0.6973, 'grad_norm': 0.6974825859069824, 'learning_rate': 4.7202797202797204e-05, 'epoch': 0.752, 'step': 1410}, {'loss': 0.6741, 'grad_norm': 0.6916689276695251, 'learning_rate': 4.7143534431670026e-05, 'epoch': 0.7573333333333333, 'step': 1420}, {'loss': 0.6555, 'grad_norm': 0.728763222694397, 'learning_rate': 4.708427166054285e-05, 'epoch': 0.7626666666666667, 'step': 1430}, {'loss': 0.602, 'grad_norm': 0.7577300071716309, 'learning_rate': 4.702500888941567e-05, 'epoch': 0.768, 'step': 1440}, {'loss': 0.7117, 'grad_norm': 0.6105858683586121, 'learning_rate': 4.696574611828849e-05, 'epoch': 0.7733333333333333, 'step': 1450}, {'loss': 0.657, 'grad_norm': 0.5153962969779968, 'learning_rate': 4.6906483347161314e-05, 'epoch': 0.7786666666666666, 'step': 1460}, {'loss': 0.6336, 'grad_norm': 0.6293304562568665, 'learning_rate': 4.6847220576034137e-05, 'epoch': 0.784, 'step': 1470}, {'loss': 0.659, 'grad_norm': 0.6291473507881165, 'learning_rate': 4.6787957804906965e-05, 'epoch': 0.7893333333333333, 'step': 1480}, {'loss': 0.6551, 'grad_norm': 0.704757809638977, 'learning_rate': 4.672869503377978e-05, 'epoch': 0.7946666666666666, 'step': 1490}, {'loss': 0.6626, 'grad_norm': 0.7011191248893738, 'learning_rate': 4.66694322626526e-05, 'epoch': 0.8, 'step': 1500}, {'eval_loss': 0.6599831581115723, 'eval_runtime': 1422.5752, 'eval_samples_per_second': 3.515, 'eval_steps_per_second': 0.439, 'epoch': 0.8, 'step': 1500}, {'loss': 0.6085, 'grad_norm': 0.5598583817481995, 'learning_rate': 4.6610169491525425e-05, 'epoch': 0.8053333333333333, 'step': 1510}, {'loss': 0.6584, 'grad_norm': 0.6152662038803101, 'learning_rate': 4.655090672039825e-05, 'epoch': 0.8106666666666666, 'step': 1520}, {'loss': 0.6422, 'grad_norm': 0.7095524072647095, 'learning_rate': 4.649164394927107e-05, 'epoch': 0.816, 'step': 1530}, {'loss': 0.5799, 'grad_norm': 0.8143110275268555, 'learning_rate': 4.643238117814389e-05, 'epoch': 0.8213333333333334, 'step': 1540}, {'loss': 0.6622, 'grad_norm': 0.7606000304222107, 'learning_rate': 4.637311840701671e-05, 'epoch': 0.8266666666666667, 'step': 1550}, {'loss': 0.6545, 'grad_norm': 0.7020278573036194, 'learning_rate': 4.6313855635889535e-05, 'epoch': 0.832, 'step': 1560}, {'loss': 0.682, 'grad_norm': 0.7280360460281372, 'learning_rate': 4.625459286476236e-05, 'epoch': 0.8373333333333334, 'step': 1570}, {'loss': 0.7037, 'grad_norm': 0.5923958420753479, 'learning_rate': 4.619533009363518e-05, 'epoch': 0.8426666666666667, 'step': 1580}, {'loss': 0.6383, 'grad_norm': 0.5802211165428162, 'learning_rate': 4.6136067322508e-05, 'epoch': 0.848, 'step': 1590}, {'loss': 0.6484, 'grad_norm': 0.49499326944351196, 'learning_rate': 4.6076804551380823e-05, 'epoch': 0.8533333333333334, 'step': 1600}, {'eval_loss': 0.6572443246841431, 'eval_runtime': 1422.8982, 'eval_samples_per_second': 3.514, 'eval_steps_per_second': 0.439, 'epoch': 0.8533333333333334, 'step': 1600}, {'loss': 0.7175, 'grad_norm': 0.649897575378418, 'learning_rate': 4.6017541780253646e-05, 'epoch': 0.8586666666666667, 'step': 1610}, {'loss': 0.6282, 'grad_norm': 0.5493977069854736, 'learning_rate': 4.595827900912647e-05, 'epoch': 0.864, 'step': 1620}, {'loss': 0.6513, 'grad_norm': 0.5641718506813049, 'learning_rate': 4.589901623799929e-05, 'epoch': 0.8693333333333333, 'step': 1630}, {'loss': 0.64, 'grad_norm': 0.7501013278961182, 'learning_rate': 4.583975346687212e-05, 'epoch': 0.8746666666666667, 'step': 1640}, {'loss': 0.5953, 'grad_norm': 0.5614798665046692, 'learning_rate': 4.578049069574494e-05, 'epoch': 0.88, 'step': 1650}, {'loss': 0.6714, 'grad_norm': 0.8485080003738403, 'learning_rate': 4.572122792461776e-05, 'epoch': 0.8853333333333333, 'step': 1660}, {'loss': 0.6028, 'grad_norm': 0.5794892311096191, 'learning_rate': 4.566196515349058e-05, 'epoch': 0.8906666666666667, 'step': 1670}, {'loss': 0.5854, 'grad_norm': 0.7943081259727478, 'learning_rate': 4.56027023823634e-05, 'epoch': 0.896, 'step': 1680}, {'loss': 0.6264, 'grad_norm': 0.5800856351852417, 'learning_rate': 4.554343961123622e-05, 'epoch': 0.9013333333333333, 'step': 1690}, {'loss': 0.633, 'grad_norm': 0.6370416283607483, 'learning_rate': 4.5484176840109044e-05, 'epoch': 0.9066666666666666, 'step': 1700}, {'eval_loss': 0.6554363965988159, 'eval_runtime': 1420.4257, 'eval_samples_per_second': 3.52, 'eval_steps_per_second': 0.44, 'epoch': 0.9066666666666666, 'step': 1700}, {'loss': 0.5893, 'grad_norm': 0.8237891793251038, 'learning_rate': 4.5424914068981866e-05, 'epoch': 0.912, 'step': 1710}, {'loss': 0.6837, 'grad_norm': 0.6258299350738525, 'learning_rate': 4.536565129785469e-05, 'epoch': 0.9173333333333333, 'step': 1720}, {'loss': 0.5673, 'grad_norm': 0.6784945726394653, 'learning_rate': 4.530638852672751e-05, 'epoch': 0.9226666666666666, 'step': 1730}, {'loss': 0.6477, 'grad_norm': 0.670573890209198, 'learning_rate': 4.524712575560033e-05, 'epoch': 0.928, 'step': 1740}, {'loss': 0.6432, 'grad_norm': 0.7105275392532349, 'learning_rate': 4.5187862984473154e-05, 'epoch': 0.9333333333333333, 'step': 1750}, {'loss': 0.5622, 'grad_norm': 0.6294363737106323, 'learning_rate': 4.5128600213345977e-05, 'epoch': 0.9386666666666666, 'step': 1760}, {'loss': 0.617, 'grad_norm': 0.5511188507080078, 'learning_rate': 4.50693374422188e-05, 'epoch': 0.944, 'step': 1770}, {'loss': 0.6457, 'grad_norm': 0.6881608963012695, 'learning_rate': 4.501007467109162e-05, 'epoch': 0.9493333333333334, 'step': 1780}, {'loss': 0.5268, 'grad_norm': 0.6190639138221741, 'learning_rate': 4.495081189996444e-05, 'epoch': 0.9546666666666667, 'step': 1790}, {'loss': 0.6697, 'grad_norm': 0.7238417267799377, 'learning_rate': 4.4891549128837265e-05, 'epoch': 0.96, 'step': 1800}, {'eval_loss': 0.6531092524528503, 'eval_runtime': 1421.9831, 'eval_samples_per_second': 3.516, 'eval_steps_per_second': 0.44, 'epoch': 0.96, 'step': 1800}, {'loss': 0.6442, 'grad_norm': 0.8282430768013, 'learning_rate': 4.4832286357710094e-05, 'epoch': 0.9653333333333334, 'step': 1810}, {'loss': 0.6796, 'grad_norm': 0.654557466506958, 'learning_rate': 4.4773023586582916e-05, 'epoch': 0.9706666666666667, 'step': 1820}, {'loss': 0.6031, 'grad_norm': 0.7136316299438477, 'learning_rate': 4.471376081545574e-05, 'epoch': 0.976, 'step': 1830}, {'loss': 0.6648, 'grad_norm': 0.6041157245635986, 'learning_rate': 4.465449804432856e-05, 'epoch': 0.9813333333333333, 'step': 1840}, {'loss': 0.6051, 'grad_norm': 0.5301476716995239, 'learning_rate': 4.4595235273201375e-05, 'epoch': 0.9866666666666667, 'step': 1850}, {'loss': 0.6016, 'grad_norm': 0.6386534571647644, 'learning_rate': 4.45359725020742e-05, 'epoch': 0.992, 'step': 1860}, {'loss': 0.6298, 'grad_norm': 0.7680699825286865, 'learning_rate': 4.447670973094702e-05, 'epoch': 0.9973333333333333, 'step': 1870}, {'loss': 0.5756, 'grad_norm': 0.7257605791091919, 'learning_rate': 4.441744695981984e-05, 'epoch': 1.0026666666666666, 'step': 1880}, {'loss': 0.6988, 'grad_norm': 0.5923786759376526, 'learning_rate': 4.4358184188692663e-05, 'epoch': 1.008, 'step': 1890}, {'loss': 0.5624, 'grad_norm': 0.6327082514762878, 'learning_rate': 4.4298921417565486e-05, 'epoch': 1.0133333333333334, 'step': 1900}, {'eval_loss': 0.6546857357025146, 'eval_runtime': 1421.7078, 'eval_samples_per_second': 3.517, 'eval_steps_per_second': 0.44, 'epoch': 1.0133333333333334, 'step': 1900}, {'loss': 0.5665, 'grad_norm': 0.5653741359710693, 'learning_rate': 4.423965864643831e-05, 'epoch': 1.0186666666666666, 'step': 1910}, {'loss': 0.5692, 'grad_norm': 0.6047622561454773, 'learning_rate': 4.418039587531113e-05, 'epoch': 1.024, 'step': 1920}, {'loss': 0.5847, 'grad_norm': 0.6902877688407898, 'learning_rate': 4.412113310418395e-05, 'epoch': 1.0293333333333334, 'step': 1930}, {'loss': 0.5708, 'grad_norm': 0.7189528942108154, 'learning_rate': 4.4061870333056774e-05, 'epoch': 1.0346666666666666, 'step': 1940}, {'loss': 0.5838, 'grad_norm': 0.7880276441574097, 'learning_rate': 4.4002607561929596e-05, 'epoch': 1.04, 'step': 1950}, {'loss': 0.5604, 'grad_norm': 0.6913650631904602, 'learning_rate': 4.394334479080242e-05, 'epoch': 1.0453333333333332, 'step': 1960}, {'loss': 0.6402, 'grad_norm': 0.7541888952255249, 'learning_rate': 4.388408201967524e-05, 'epoch': 1.0506666666666666, 'step': 1970}, {'loss': 0.5906, 'grad_norm': 0.6531957983970642, 'learning_rate': 4.382481924854807e-05, 'epoch': 1.056, 'step': 1980}, {'loss': 0.5906, 'grad_norm': 0.7853366732597351, 'learning_rate': 4.376555647742089e-05, 'epoch': 1.0613333333333332, 'step': 1990}, {'loss': 0.6113, 'grad_norm': 0.9847381114959717, 'learning_rate': 4.370629370629371e-05, 'epoch': 1.0666666666666667, 'step': 2000}, {'eval_loss': 0.6560907959938049, 'eval_runtime': 1419.8871, 'eval_samples_per_second': 3.521, 'eval_steps_per_second': 0.44, 'epoch': 1.0666666666666667, 'step': 2000}, {'train_runtime': 33463.5882, 'train_samples_per_second': 1.12, 'train_steps_per_second': 0.28, 'total_flos': 7.045099340326502e+16, 'train_loss': 0.7306511721611023, 'epoch': 1.0666666666666667, 'step': 2000}, {'eval_loss': 0.6531092524528503, 'eval_runtime': 1420.9135, 'eval_samples_per_second': 3.519, 'eval_steps_per_second': 0.44, 'epoch': 1.0666666666666667, 'step': 2000}]\n"
     ]
    },
    {
     "name": "stderr",
     "output_type": "stream",
     "text": [
      "\r\n",
      "Evaluating Level 5:   0%|          | 0/157 [00:00<?, ?it/s]"
     ]
    },
    {
     "name": "stderr",
     "output_type": "stream",
     "text": [
      "/usr/local/lib/python3.10/dist-packages/transformers/generation/configuration_utils.py:628: UserWarning: `do_sample` is set to `False`. However, `temperature` is set to `0.6` -- this flag is only used in sample-based generation modes. You should set `do_sample=True` or unset `temperature`.\n",
      "  warnings.warn(\n",
      "/usr/local/lib/python3.10/dist-packages/transformers/generation/configuration_utils.py:633: UserWarning: `do_sample` is set to `False`. However, `top_p` is set to `0.9` -- this flag is only used in sample-based generation modes. You should set `do_sample=True` or unset `top_p`.\n",
      "  warnings.warn(\n"
     ]
    },
    {
     "name": "stderr",
     "output_type": "stream",
     "text": [
      "\r\n",
      "Evaluating Level 5:   1%|          | 1/157 [02:04<5:23:44, 124.52s/it]"
     ]
    },
    {
     "name": "stderr",
     "output_type": "stream",
     "text": [
      "\r\n",
      "Evaluating Level 5:   1%|▏         | 2/157 [03:36<4:32:19, 105.42s/it]"
     ]
    },
    {
     "name": "stderr",
     "output_type": "stream",
     "text": [
      "\r\n",
      "Evaluating Level 5:   2%|▏         | 3/157 [05:39<4:51:34, 113.60s/it]"
     ]
    },
    {
     "name": "stderr",
     "output_type": "stream",
     "text": [
      "\r\n",
      "Evaluating Level 5:   3%|▎         | 4/157 [08:02<5:19:15, 125.20s/it]"
     ]
    },
    {
     "name": "stderr",
     "output_type": "stream",
     "text": [
      "\r\n",
      "Evaluating Level 5:   3%|▎         | 5/157 [09:56<5:06:48, 121.11s/it]"
     ]
    },
    {
     "name": "stderr",
     "output_type": "stream",
     "text": [
      "\r\n",
      "Evaluating Level 5:   4%|▍         | 6/157 [12:08<5:14:12, 124.85s/it]"
     ]
    },
    {
     "name": "stderr",
     "output_type": "stream",
     "text": [
      "\r\n",
      "Evaluating Level 5:   4%|▍         | 7/157 [13:48<4:51:36, 116.64s/it]"
     ]
    },
    {
     "name": "stderr",
     "output_type": "stream",
     "text": [
      "\r\n",
      "Evaluating Level 5:   5%|▌         | 8/157 [15:01<4:15:00, 102.69s/it]"
     ]
    },
    {
     "name": "stderr",
     "output_type": "stream",
     "text": [
      "\r\n",
      "Evaluating Level 5:   6%|▌         | 9/157 [16:43<4:13:03, 102.59s/it]"
     ]
    },
    {
     "name": "stderr",
     "output_type": "stream",
     "text": [
      "\r\n",
      "Evaluating Level 5:   6%|▋         | 10/157 [18:28<4:12:54, 103.23s/it]"
     ]
    },
    {
     "name": "stderr",
     "output_type": "stream",
     "text": [
      "\r\n",
      "Evaluating Level 5:   7%|▋         | 11/157 [20:09<4:09:37, 102.58s/it]"
     ]
    },
    {
     "name": "stderr",
     "output_type": "stream",
     "text": [
      "\r\n",
      "Evaluating Level 5:   8%|▊         | 12/157 [23:21<5:13:22, 129.67s/it]"
     ]
    },
    {
     "name": "stderr",
     "output_type": "stream",
     "text": [
      "\r\n",
      "Evaluating Level 5:   8%|▊         | 13/157 [25:07<4:54:17, 122.62s/it]"
     ]
    },
    {
     "name": "stderr",
     "output_type": "stream",
     "text": [
      "\r\n",
      "Evaluating Level 5:   9%|▉         | 14/157 [26:54<4:41:10, 117.97s/it]"
     ]
    },
    {
     "name": "stderr",
     "output_type": "stream",
     "text": [
      "\r\n",
      "Evaluating Level 5:  10%|▉         | 15/157 [29:55<5:23:55, 136.87s/it]"
     ]
    },
    {
     "name": "stderr",
     "output_type": "stream",
     "text": [
      "\r\n",
      "Evaluating Level 5:  10%|█         | 16/157 [31:37<4:56:53, 126.34s/it]"
     ]
    },
    {
     "name": "stderr",
     "output_type": "stream",
     "text": [
      "\r\n",
      "Evaluating Level 5:  11%|█         | 17/157 [33:31<4:46:25, 122.75s/it]"
     ]
    },
    {
     "name": "stderr",
     "output_type": "stream",
     "text": [
      "\r\n",
      "Evaluating Level 5:  11%|█▏        | 18/157 [34:57<4:18:37, 111.64s/it]"
     ]
    },
    {
     "name": "stderr",
     "output_type": "stream",
     "text": [
      "\r\n",
      "Evaluating Level 5:  12%|█▏        | 19/157 [38:07<5:11:06, 135.26s/it]"
     ]
    },
    {
     "name": "stderr",
     "output_type": "stream",
     "text": [
      "\r\n",
      "Evaluating Level 5:  13%|█▎        | 20/157 [39:50<4:46:11, 125.34s/it]"
     ]
    },
    {
     "name": "stderr",
     "output_type": "stream",
     "text": [
      "\r\n",
      "Evaluating Level 5:  13%|█▎        | 21/157 [41:30<4:27:15, 117.90s/it]"
     ]
    },
    {
     "name": "stderr",
     "output_type": "stream",
     "text": [
      "\r\n",
      "Evaluating Level 5:  14%|█▍        | 22/157 [43:41<4:33:59, 121.78s/it]"
     ]
    },
    {
     "name": "stderr",
     "output_type": "stream",
     "text": [
      "\r\n",
      "Evaluating Level 5:  15%|█▍        | 23/157 [46:03<4:45:43, 127.94s/it]"
     ]
    },
    {
     "name": "stderr",
     "output_type": "stream",
     "text": [
      "\r\n",
      "Evaluating Level 5:  15%|█▌        | 24/157 [47:49<4:28:47, 121.26s/it]"
     ]
    },
    {
     "name": "stderr",
     "output_type": "stream",
     "text": [
      "\r\n",
      "Evaluating Level 5:  16%|█▌        | 25/157 [50:24<4:49:05, 131.41s/it]"
     ]
    },
    {
     "name": "stderr",
     "output_type": "stream",
     "text": [
      "\r\n",
      "Evaluating Level 5:  17%|█▋        | 26/157 [52:10<4:30:02, 123.69s/it]"
     ]
    },
    {
     "name": "stderr",
     "output_type": "stream",
     "text": [
      "\r\n",
      "Evaluating Level 5:  17%|█▋        | 27/157 [54:02<4:20:20, 120.16s/it]"
     ]
    },
    {
     "name": "stderr",
     "output_type": "stream",
     "text": [
      "\r\n",
      "Evaluating Level 5:  18%|█▊        | 28/157 [55:44<4:07:08, 114.95s/it]"
     ]
    },
    {
     "name": "stderr",
     "output_type": "stream",
     "text": [
      "\r\n",
      "Evaluating Level 5:  18%|█▊        | 29/157 [57:32<4:00:49, 112.89s/it]"
     ]
    },
    {
     "name": "stderr",
     "output_type": "stream",
     "text": [
      "\r\n",
      "Evaluating Level 5:  19%|█▉        | 30/157 [59:48<4:13:12, 119.62s/it]"
     ]
    },
    {
     "name": "stderr",
     "output_type": "stream",
     "text": [
      "\r\n",
      "Evaluating Level 5:  20%|█▉        | 31/157 [1:01:37<4:04:48, 116.58s/it]"
     ]
    },
    {
     "name": "stderr",
     "output_type": "stream",
     "text": [
      "\r\n",
      "Evaluating Level 5:  20%|██        | 32/157 [1:03:20<3:54:07, 112.38s/it]"
     ]
    },
    {
     "name": "stderr",
     "output_type": "stream",
     "text": [
      "\r\n",
      "Evaluating Level 5:  21%|██        | 33/157 [1:05:07<3:49:04, 110.84s/it]"
     ]
    },
    {
     "name": "stderr",
     "output_type": "stream",
     "text": [
      "\r\n",
      "Evaluating Level 5:  22%|██▏       | 34/157 [1:07:04<3:50:48, 112.59s/it]"
     ]
    },
    {
     "name": "stderr",
     "output_type": "stream",
     "text": [
      "\r\n",
      "Evaluating Level 5:  22%|██▏       | 35/157 [1:08:46<3:42:50, 109.59s/it]"
     ]
    },
    {
     "name": "stderr",
     "output_type": "stream",
     "text": [
      "\r\n",
      "Evaluating Level 5:  23%|██▎       | 36/157 [1:10:27<3:35:52, 107.04s/it]"
     ]
    },
    {
     "name": "stderr",
     "output_type": "stream",
     "text": [
      "\r\n",
      "Evaluating Level 5:  24%|██▎       | 37/157 [1:12:42<3:50:39, 115.33s/it]"
     ]
    },
    {
     "name": "stderr",
     "output_type": "stream",
     "text": [
      "\r\n",
      "Evaluating Level 5:  24%|██▍       | 38/157 [1:14:32<3:45:37, 113.76s/it]"
     ]
    },
    {
     "name": "stderr",
     "output_type": "stream",
     "text": [
      "\r\n",
      "Evaluating Level 5:  25%|██▍       | 39/157 [1:16:46<3:55:30, 119.75s/it]"
     ]
    },
    {
     "name": "stderr",
     "output_type": "stream",
     "text": [
      "\r\n",
      "Evaluating Level 5:  25%|██▌       | 40/157 [1:19:07<4:05:55, 126.12s/it]"
     ]
    },
    {
     "name": "stderr",
     "output_type": "stream",
     "text": [
      "\r\n",
      "Evaluating Level 5:  26%|██▌       | 41/157 [1:21:54<4:27:31, 138.38s/it]"
     ]
    },
    {
     "name": "stderr",
     "output_type": "stream",
     "text": [
      "\r\n",
      "Evaluating Level 5:  27%|██▋       | 42/157 [1:24:55<4:49:56, 151.27s/it]"
     ]
    },
    {
     "name": "stderr",
     "output_type": "stream",
     "text": [
      "\r\n",
      "Evaluating Level 5:  27%|██▋       | 43/157 [1:26:43<4:22:28, 138.15s/it]"
     ]
    },
    {
     "name": "stderr",
     "output_type": "stream",
     "text": [
      "\r\n",
      "Evaluating Level 5:  28%|██▊       | 44/157 [1:29:16<4:28:41, 142.67s/it]"
     ]
    },
    {
     "name": "stderr",
     "output_type": "stream",
     "text": [
      "\r\n",
      "Evaluating Level 5:  29%|██▊       | 45/157 [1:31:03<4:06:35, 132.10s/it]"
     ]
    },
    {
     "name": "stderr",
     "output_type": "stream",
     "text": [
      "\r\n",
      "Evaluating Level 5:  29%|██▉       | 46/157 [1:33:28<4:11:13, 135.80s/it]"
     ]
    },
    {
     "name": "stderr",
     "output_type": "stream",
     "text": [
      "\r\n",
      "Evaluating Level 5:  30%|██▉       | 47/157 [1:35:32<4:02:41, 132.38s/it]"
     ]
    },
    {
     "name": "stderr",
     "output_type": "stream",
     "text": [
      "\r\n",
      "Evaluating Level 5:  31%|███       | 48/157 [1:39:09<4:46:21, 157.63s/it]"
     ]
    },
    {
     "name": "stderr",
     "output_type": "stream",
     "text": [
      "\r\n",
      "Evaluating Level 5:  31%|███       | 49/157 [1:41:21<4:29:50, 149.91s/it]"
     ]
    },
    {
     "name": "stderr",
     "output_type": "stream",
     "text": [
      "\r\n",
      "Evaluating Level 5:  32%|███▏      | 50/157 [1:43:33<4:17:43, 144.52s/it]"
     ]
    },
    {
     "name": "stderr",
     "output_type": "stream",
     "text": [
      "\r\n",
      "Evaluating Level 5:  32%|███▏      | 51/157 [1:45:22<3:56:45, 134.02s/it]"
     ]
    },
    {
     "name": "stderr",
     "output_type": "stream",
     "text": [
      "\r\n",
      "Evaluating Level 5:  33%|███▎      | 52/157 [1:47:24<3:48:12, 130.41s/it]"
     ]
    },
    {
     "name": "stderr",
     "output_type": "stream",
     "text": [
      "\r\n",
      "Evaluating Level 5:  34%|███▍      | 53/157 [1:50:03<4:00:59, 139.03s/it]"
     ]
    },
    {
     "name": "stderr",
     "output_type": "stream",
     "text": [
      "\r\n",
      "Evaluating Level 5:  34%|███▍      | 54/157 [1:52:20<3:57:25, 138.30s/it]"
     ]
    },
    {
     "name": "stderr",
     "output_type": "stream",
     "text": [
      "\r\n",
      "Evaluating Level 5:  35%|███▌      | 55/157 [1:54:26<3:48:47, 134.58s/it]"
     ]
    },
    {
     "name": "stderr",
     "output_type": "stream",
     "text": [
      "\r\n",
      "Evaluating Level 5:  36%|███▌      | 56/157 [1:56:10<3:31:24, 125.59s/it]"
     ]
    },
    {
     "name": "stderr",
     "output_type": "stream",
     "text": [
      "\r\n",
      "Evaluating Level 5:  36%|███▋      | 57/157 [1:57:35<3:09:00, 113.41s/it]"
     ]
    },
    {
     "name": "stderr",
     "output_type": "stream",
     "text": [
      "\r\n",
      "Evaluating Level 5:  37%|███▋      | 58/157 [2:00:01<3:23:02, 123.05s/it]"
     ]
    },
    {
     "name": "stderr",
     "output_type": "stream",
     "text": [
      "\r\n",
      "Evaluating Level 5:  38%|███▊      | 59/157 [2:03:38<4:07:13, 151.36s/it]"
     ]
    },
    {
     "name": "stderr",
     "output_type": "stream",
     "text": [
      "\r\n",
      "Evaluating Level 5:  38%|███▊      | 60/157 [2:06:00<4:00:02, 148.48s/it]"
     ]
    },
    {
     "name": "stderr",
     "output_type": "stream",
     "text": [
      "\r\n",
      "Evaluating Level 5:  39%|███▉      | 61/157 [2:08:49<4:07:12, 154.51s/it]"
     ]
    },
    {
     "name": "stderr",
     "output_type": "stream",
     "text": [
      "\r\n",
      "Evaluating Level 5:  39%|███▉      | 62/157 [2:10:55<3:51:15, 146.06s/it]"
     ]
    },
    {
     "name": "stderr",
     "output_type": "stream",
     "text": [
      "\r\n",
      "Evaluating Level 5:  40%|████      | 63/157 [2:13:23<3:49:52, 146.73s/it]"
     ]
    }
   ],
   "source": [
    "for level in range(1, 6):\n",
    "    print(f\"\\nStarting training for Level {level}\")\n",
    "\n",
    "    if level == 1:\n",
    "        model = AutoModelForCausalLM.from_pretrained(\n",
    "            model_id,\n",
    "            quantization_config=bnb_config,\n",
    "            device_map=\"auto\",\n",
    "            token=token,\n",
    "        )\n",
    "        model.resize_token_embeddings(len(tokenizer))\n",
    "        lc = lora_config[\"lora_config1\"]\n",
    "        model = get_peft_model(model, lc)\n",
    "\n",
    "    else:\n",
    "        # Load tokenizer and model from previous level\n",
    "        prev_level = level - 1\n",
    "        prev_model_path = os.path.join(save_dir, f\"rank_llama_level_{prev_level}\")\n",
    "        \n",
    "        model = PeftModel.from_pretrained(\n",
    "        model=model,\n",
    "        model_id = prev_model_path,\n",
    "        peft_config=bnb_config,\n",
    "        device_map=\"auto\")\n",
    "        \n",
    "        model.resize_token_embeddings(len(tokenizer))\n",
    "        if level == 2:\n",
    "            lc = lora_config[\"lora_config2\"]\n",
    "            model = get_peft_model(model, lc)\n",
    "        if level == 3:\n",
    "            lc = lora_config[\"lora_config3\"]\n",
    "            model = get_peft_model(model, lc)\n",
    "        if level == 4:\n",
    "            lc = lora_config[\"lora_config4\"]\n",
    "            model = get_peft_model(model, lc)\n",
    "        if level == 5:\n",
    "            lc = lora_config[\"lora_config5\"]\n",
    "            model = get_peft_model(model, lc)       \n",
    "        tokenizer.padding_side = \"left\"\n",
    "    \n",
    "    # Filter the dataset by current level\n",
    "    level_train = dataset['train'].filter(\n",
    "        lambda x: x['level'] <= f\"Level {level}\"\n",
    "    )\n",
    "    level_test = dataset['test'].filter(\n",
    "        lambda x: x['level'] <= f\"Level {level}\"\n",
    "    )\n",
    "    \n",
    "    print(f\"Number of training samples: {len(level_train)}\")\n",
    "    print(f\"Number of test samples: {len(level_test)}\")\n",
    "    \n",
    "    \n",
    "    # Tokenize datasets\n",
    "    level_train = level_train.map(preprocess_function, batched=True)\n",
    "    level_test = level_test.map(preprocess_function, batched=True)\n",
    "    \n",
    "#     level_train = level_train.select(range(5))\n",
    "#     level_test = level_test.select(range(2))\n",
    "    \n",
    "    training_args = TrainingArguments(\n",
    "      output_dir=os.path.join(save_dir, f\"rank_level_overall\"),\n",
    "      per_device_train_batch_size=4,\n",
    "      gradient_accumulation_steps=1,\n",
    "      warmup_ratio=0.1,\n",
    "      num_train_epochs=5,\n",
    "      learning_rate=5e-5,\n",
    "      fp16=True,  # Use bf16 precision\n",
    "      logging_steps=10,\n",
    "      optim=\"paged_adamw_8bit\",\n",
    "      evaluation_strategy=\"steps\",\n",
    "      eval_steps=100,\n",
    "      save_steps=100,\n",
    "      save_total_limit=2,\n",
    "      report_to=\"none\",  # Change to \"wandb\" if using Weights & Biases\n",
    "      run_name=f\"llama_FineTuning_Level_overall\",\n",
    "        load_best_model_at_end=True,  # Load the best model at the end\n",
    "    metric_for_best_model=\"eval_loss\",  # Use eval_loss to select the best model\n",
    "    greater_is_better=False,\n",
    "        ddp_find_unused_parameters=False,\n",
    "    )\n",
    "\n",
    "    early_stopping_callback = EarlyStoppingCallback(\n",
    "    early_stopping_patience=2,  # Stop training if no improvement after 2 evaluations\n",
    "    )\n",
    "    \n",
    "    # Initialize the trainer\n",
    "    trainer = SFTTrainer(\n",
    "        model=model,\n",
    "        train_dataset=level_train,\n",
    "        eval_dataset=level_test,\n",
    "        peft_config=lc,\n",
    "        args=training_args,\n",
    "        data_collator=data_collator,\n",
    "        callbacks=[early_stopping_callback],\n",
    "    )\n",
    "    \n",
    "    # Train the model\n",
    "    trainer.train()\n",
    "\n",
    "    \n",
    "    # Save the model\n",
    "    model_save_path = os.path.join(save_dir, f\"rank_llama_level_{level}\")\n",
    "    model.save_pretrained(model_save_path,save_embedding_layers=True)\n",
    "    tokenizer.save_pretrained(model_save_path)\n",
    "\n",
    "    model.push_to_hub(f\"exp2_mwp_sft_llama3.23b_level_{level}\", use_auth_token=token)\n",
    "    tokenizer.push_to_hub(f\"exp2_mwp_sft_llama3.23b_level_{level}\", use_auth_token=token)\n",
    "    \n",
    "    # Evaluate the model\n",
    "    results = trainer.evaluate()\n",
    "    print(f\"Overall evaluation results: {results}\")\n",
    "    \n",
    "    print(trainer.state.log_history)\n",
    "\n",
    "    if level == 5:\n",
    "        model.eval()  # Set model to evaluation mode\n",
    "        \n",
    "        test_samples = []\n",
    "        for idx in range(len(level_test)):\n",
    "            sample = level_test[idx]\n",
    "            input_text = (\n",
    "                f\"<|begin_of_text|><|start_header_id|>system <|end_header_id|>\"\n",
    "                \"You are an expert math assistant<|eot_id|><|start_header_id|>user <|end_header_id|>\"\n",
    "                f\"Solve the following math problem: {sample['problem']}\\n\"\n",
    "                \"Show all intermediate steps and please mandatorily include the final answer in LaTeX format in a box like \\\\boxed{{}}.\"\n",
    "                \"<|eot_id|><|start_header_id|> assistant <|end_header_id|>\"\n",
    "            )\n",
    "            test_samples.append({\n",
    "                \"input_text\": input_text,\n",
    "                \"problem\": sample['problem'],\n",
    "                \"level\": sample['level'],\n",
    "                \"type\": sample['type'],\n",
    "                \"ground_truth\": sample['solution']\n",
    "            })\n",
    "            \n",
    "        def collate_fn(batch):\n",
    "            input_texts = [sample['input_text'] for sample in batch]\n",
    "            model_inputs = tokenizer(\n",
    "                input_texts,\n",
    "                padding=True,\n",
    "                truncation=True,\n",
    "                max_length=1024,  # Adjust as needed\n",
    "                return_tensors=\"pt\"\n",
    "            )\n",
    "            model_inputs = {k: v.to(model.device) for k, v in model_inputs.items()}\n",
    "            return model_inputs, batch\n",
    "    \n",
    "        batch_size = 32  # Adjust based on your GPU memory\n",
    "        test_dataloader = DataLoader(test_samples, batch_size=batch_size, collate_fn=collate_fn)\n",
    "    \n",
    "        results_list = []\n",
    "        device = torch.device(\"cuda\" if torch.cuda.is_available() else \"cpu\")\n",
    "        \n",
    "        for batch_idx, (model_inputs, batch_samples) in enumerate(tqdm(test_dataloader, desc=f\"Evaluating Level {level}\")):\n",
    "            current_batch_size = model_inputs['input_ids'].size(0)\n",
    "            # Generate predictions\n",
    "            try:\n",
    "                with torch.no_grad():\n",
    "                    output_ids = model.generate(\n",
    "                        input_ids=model_inputs['input_ids'],\n",
    "                        attention_mask=model_inputs['attention_mask'],\n",
    "                        max_new_tokens=512,  \n",
    "                        do_sample=False,\n",
    "                        eos_token_id=tokenizer.eos_token_id,\n",
    "                        pad_token_id=tokenizer.pad_token_id\n",
    "                    )\n",
    "                # Decode the outputs\n",
    "                for i in range(current_batch_size):\n",
    "                    predicted_text = tokenizer.decode(output_ids[i], skip_special_tokens=True)\n",
    "                    # Store the results\n",
    "                    results_list.append({\n",
    "                        \"problem\": batch_samples[i]['problem'],\n",
    "                        \"level\": batch_samples[i]['level'],\n",
    "                        \"type\": batch_samples[i]['type'],\n",
    "                        \"ground_truth\": batch_samples[i]['ground_truth'],\n",
    "                        \"predicted_solution\": predicted_text\n",
    "                    })\n",
    "            except Exception as e:\n",
    "                print(f\"Error during generation at batch {batch_idx+1}: {e}\")\n",
    "                # In case of error, record empty predictions for this batch\n",
    "                for i in range(current_batch_size):\n",
    "                    results_list.append({\n",
    "                        \"problem\": batch_samples[i]['problem'],\n",
    "                        \"level\": batch_samples[i]['level'],\n",
    "                        \"type\": batch_samples[i]['type'],\n",
    "                        \"ground_truth\": batch_samples[i]['ground_truth'],\n",
    "                        \"predicted_solution\": \"\"  # Empty string for predicted_text\n",
    "                    })\n",
    "                continue  # Proceed to the next batch\n",
    "    \n",
    "            # Optionally, save intermediate results every N batches\n",
    "            if (batch_idx + 1) % 100 == 0:\n",
    "                results_df = pd.DataFrame(results_list)\n",
    "                results_save_path = os.path.join(save_dir, f\"test_results_level_{level}_batch_{batch_idx+1}.csv\")\n",
    "                results_df.to_csv(results_save_path, index=False)\n",
    "                print(f\"Saved test results up to batch {batch_idx+1} to {results_save_path}\")\n",
    "        \n",
    "        \n",
    "        results_df = pd.DataFrame(results_list)\n",
    "        results_save_path = os.path.join(save_dir, f\"test_results_level_{level}.csv\")\n",
    "        results_df.to_csv(results_save_path, index=False)\n",
    "        print(f\"Saved test results to {results_save_path}\")"
   ]
  },
  {
   "cell_type": "code",
   "execution_count": null,
   "id": "ff38feae",
   "metadata": {
    "_cell_guid": "3236233f-97d6-48e8-89b8-049941c6ce67",
    "_uuid": "3c073786-f480-4c96-8718-0fef2e741c55",
    "collapsed": false,
    "jupyter": {
     "outputs_hidden": false
    },
    "papermill": {
     "duration": null,
     "end_time": null,
     "exception": null,
     "start_time": null,
     "status": "pending"
    },
    "tags": []
   },
   "outputs": [],
   "source": []
  },
  {
   "cell_type": "code",
   "execution_count": null,
   "id": "286951e2",
   "metadata": {
    "_cell_guid": "71681ae5-d0fd-4423-8700-9fcaba920064",
    "_uuid": "af828a4e-d7c8-4553-87b8-0d503ecbb360",
    "collapsed": false,
    "jupyter": {
     "outputs_hidden": false
    },
    "papermill": {
     "duration": null,
     "end_time": null,
     "exception": null,
     "start_time": null,
     "status": "pending"
    },
    "tags": []
   },
   "outputs": [],
   "source": []
  },
  {
   "cell_type": "code",
   "execution_count": null,
   "id": "3815dac1",
   "metadata": {
    "_cell_guid": "d6723de1-d1c8-4ddd-8bd0-77a40252e21f",
    "_uuid": "6d57a0f9-65f0-41d8-b8f0-f2344459619b",
    "collapsed": false,
    "jupyter": {
     "outputs_hidden": false
    },
    "papermill": {
     "duration": null,
     "end_time": null,
     "exception": null,
     "start_time": null,
     "status": "pending"
    },
    "tags": []
   },
   "outputs": [],
   "source": []
  },
  {
   "cell_type": "code",
   "execution_count": null,
   "id": "26a11491",
   "metadata": {
    "_cell_guid": "bed6a192-520b-4c51-a3bd-5b5e94a82e91",
    "_uuid": "289b2d7f-238e-4a48-9dfb-f6809988372e",
    "collapsed": false,
    "jupyter": {
     "outputs_hidden": false
    },
    "papermill": {
     "duration": null,
     "end_time": null,
     "exception": null,
     "start_time": null,
     "status": "pending"
    },
    "tags": []
   },
   "outputs": [],
   "source": []
  }
 ],
 "metadata": {
  "kaggle": {
   "accelerator": "nvidiaTeslaT4",
   "dataSources": [],
   "dockerImageVersionId": 30823,
   "isGpuEnabled": true,
   "isInternetEnabled": true,
   "language": "python",
   "sourceType": "notebook"
  },
  "kernelspec": {
   "display_name": "Python 3",
   "language": "python",
   "name": "python3"
  },
  "language_info": {
   "codemirror_mode": {
    "name": "ipython",
    "version": 3
   },
   "file_extension": ".py",
   "mimetype": "text/x-python",
   "name": "python",
   "nbconvert_exporter": "python",
   "pygments_lexer": "ipython3",
   "version": "3.10.12"
  },
  "papermill": {
   "default_parameters": {},
   "duration": null,
   "end_time": null,
   "environment_variables": {},
   "exception": null,
   "input_path": "__notebook__.ipynb",
   "output_path": "__notebook__.ipynb",
   "parameters": {},
   "start_time": "2025-01-06T06:38:44.876487",
   "version": "2.6.0"
  }
 },
 "nbformat": 4,
 "nbformat_minor": 5
}
